{
 "cells": [
  {
   "cell_type": "code",
   "execution_count": 2,
   "id": "c5ab3edf",
   "metadata": {},
   "outputs": [],
   "source": [
    "import warnings\n",
    "warnings.filterwarnings('ignore')\n",
    "import html5lib\n",
    "import requests\n",
    "import io"
   ]
  },
  {
   "cell_type": "code",
   "execution_count": 3,
   "id": "1008328b",
   "metadata": {},
   "outputs": [],
   "source": [
    "import pandas as pd\n",
    "import numpy as np"
   ]
  },
  {
   "cell_type": "markdown",
   "id": "ee7a8631",
   "metadata": {},
   "source": [
    "# Reading the Basic Patterns"
   ]
  },
  {
   "cell_type": "code",
   "execution_count": 4,
   "id": "b1ed27cb",
   "metadata": {},
   "outputs": [
    {
     "data": {
      "text/html": [
       "<div>\n",
       "<style scoped>\n",
       "    .dataframe tbody tr th:only-of-type {\n",
       "        vertical-align: middle;\n",
       "    }\n",
       "\n",
       "    .dataframe tbody tr th {\n",
       "        vertical-align: top;\n",
       "    }\n",
       "\n",
       "    .dataframe thead th {\n",
       "        text-align: right;\n",
       "    }\n",
       "</style>\n",
       "<table border=\"1\" class=\"dataframe\">\n",
       "  <thead>\n",
       "    <tr style=\"text-align: right;\">\n",
       "      <th></th>\n",
       "      <th>instant</th>\n",
       "      <th>dteday</th>\n",
       "      <th>season</th>\n",
       "      <th>yr</th>\n",
       "      <th>mnth</th>\n",
       "      <th>holiday</th>\n",
       "      <th>weekday</th>\n",
       "      <th>workingday</th>\n",
       "      <th>weathersit</th>\n",
       "      <th>temp</th>\n",
       "      <th>atemp</th>\n",
       "      <th>hum</th>\n",
       "      <th>windspeed</th>\n",
       "      <th>casual</th>\n",
       "      <th>registered</th>\n",
       "      <th>cnt</th>\n",
       "    </tr>\n",
       "  </thead>\n",
       "  <tbody>\n",
       "    <tr>\n",
       "      <th>0</th>\n",
       "      <td>1</td>\n",
       "      <td>01-01-2018</td>\n",
       "      <td>1</td>\n",
       "      <td>0</td>\n",
       "      <td>1</td>\n",
       "      <td>0</td>\n",
       "      <td>1</td>\n",
       "      <td>1</td>\n",
       "      <td>2</td>\n",
       "      <td>14.110847</td>\n",
       "      <td>18.18125</td>\n",
       "      <td>80.5833</td>\n",
       "      <td>10.749882</td>\n",
       "      <td>331</td>\n",
       "      <td>654</td>\n",
       "      <td>985</td>\n",
       "    </tr>\n",
       "    <tr>\n",
       "      <th>1</th>\n",
       "      <td>2</td>\n",
       "      <td>02-01-2018</td>\n",
       "      <td>1</td>\n",
       "      <td>0</td>\n",
       "      <td>1</td>\n",
       "      <td>0</td>\n",
       "      <td>2</td>\n",
       "      <td>1</td>\n",
       "      <td>2</td>\n",
       "      <td>14.902598</td>\n",
       "      <td>17.68695</td>\n",
       "      <td>69.6087</td>\n",
       "      <td>16.652113</td>\n",
       "      <td>131</td>\n",
       "      <td>670</td>\n",
       "      <td>801</td>\n",
       "    </tr>\n",
       "    <tr>\n",
       "      <th>2</th>\n",
       "      <td>3</td>\n",
       "      <td>03-01-2018</td>\n",
       "      <td>1</td>\n",
       "      <td>0</td>\n",
       "      <td>1</td>\n",
       "      <td>0</td>\n",
       "      <td>3</td>\n",
       "      <td>1</td>\n",
       "      <td>1</td>\n",
       "      <td>8.050924</td>\n",
       "      <td>9.47025</td>\n",
       "      <td>43.7273</td>\n",
       "      <td>16.636703</td>\n",
       "      <td>120</td>\n",
       "      <td>1229</td>\n",
       "      <td>1349</td>\n",
       "    </tr>\n",
       "    <tr>\n",
       "      <th>3</th>\n",
       "      <td>4</td>\n",
       "      <td>04-01-2018</td>\n",
       "      <td>1</td>\n",
       "      <td>0</td>\n",
       "      <td>1</td>\n",
       "      <td>0</td>\n",
       "      <td>4</td>\n",
       "      <td>1</td>\n",
       "      <td>1</td>\n",
       "      <td>8.200000</td>\n",
       "      <td>10.60610</td>\n",
       "      <td>59.0435</td>\n",
       "      <td>10.739832</td>\n",
       "      <td>108</td>\n",
       "      <td>1454</td>\n",
       "      <td>1562</td>\n",
       "    </tr>\n",
       "    <tr>\n",
       "      <th>4</th>\n",
       "      <td>5</td>\n",
       "      <td>05-01-2018</td>\n",
       "      <td>1</td>\n",
       "      <td>0</td>\n",
       "      <td>1</td>\n",
       "      <td>0</td>\n",
       "      <td>5</td>\n",
       "      <td>1</td>\n",
       "      <td>1</td>\n",
       "      <td>9.305237</td>\n",
       "      <td>11.46350</td>\n",
       "      <td>43.6957</td>\n",
       "      <td>12.522300</td>\n",
       "      <td>82</td>\n",
       "      <td>1518</td>\n",
       "      <td>1600</td>\n",
       "    </tr>\n",
       "  </tbody>\n",
       "</table>\n",
       "</div>"
      ],
      "text/plain": [
       "   instant      dteday  season  yr  mnth  holiday  weekday  workingday  \\\n",
       "0        1  01-01-2018       1   0     1        0        1           1   \n",
       "1        2  02-01-2018       1   0     1        0        2           1   \n",
       "2        3  03-01-2018       1   0     1        0        3           1   \n",
       "3        4  04-01-2018       1   0     1        0        4           1   \n",
       "4        5  05-01-2018       1   0     1        0        5           1   \n",
       "\n",
       "   weathersit       temp     atemp      hum  windspeed  casual  registered  \\\n",
       "0           2  14.110847  18.18125  80.5833  10.749882     331         654   \n",
       "1           2  14.902598  17.68695  69.6087  16.652113     131         670   \n",
       "2           1   8.050924   9.47025  43.7273  16.636703     120        1229   \n",
       "3           1   8.200000  10.60610  59.0435  10.739832     108        1454   \n",
       "4           1   9.305237  11.46350  43.6957  12.522300      82        1518   \n",
       "\n",
       "    cnt  \n",
       "0   985  \n",
       "1   801  \n",
       "2  1349  \n",
       "3  1562  \n",
       "4  1600  "
      ]
     },
     "execution_count": 4,
     "metadata": {},
     "output_type": "execute_result"
    }
   ],
   "source": [
    "url1 = 'https://drive.google.com/file/d/1gLzf6ssZdAwMkIs8UgiBF7QeKiFm_d_q/view?usp=share_link'\n",
    "url1 = 'https://drive.google.com/uc?id=' + url1.split('/')[-2]\n",
    "df = pd.read_csv(url1)\n",
    "df.head()"
   ]
  },
  {
   "cell_type": "code",
   "execution_count": 5,
   "id": "04008168",
   "metadata": {
    "scrolled": true
   },
   "outputs": [
    {
     "data": {
      "text/html": [
       "<div>\n",
       "<style scoped>\n",
       "    .dataframe tbody tr th:only-of-type {\n",
       "        vertical-align: middle;\n",
       "    }\n",
       "\n",
       "    .dataframe tbody tr th {\n",
       "        vertical-align: top;\n",
       "    }\n",
       "\n",
       "    .dataframe thead th {\n",
       "        text-align: right;\n",
       "    }\n",
       "</style>\n",
       "<table border=\"1\" class=\"dataframe\">\n",
       "  <thead>\n",
       "    <tr style=\"text-align: right;\">\n",
       "      <th></th>\n",
       "      <th>instant</th>\n",
       "      <th>dteday</th>\n",
       "      <th>season</th>\n",
       "      <th>yr</th>\n",
       "      <th>mnth</th>\n",
       "      <th>holiday</th>\n",
       "      <th>weekday</th>\n",
       "      <th>workingday</th>\n",
       "      <th>weathersit</th>\n",
       "      <th>temp</th>\n",
       "      <th>atemp</th>\n",
       "      <th>hum</th>\n",
       "      <th>windspeed</th>\n",
       "      <th>casual</th>\n",
       "      <th>registered</th>\n",
       "      <th>cnt</th>\n",
       "    </tr>\n",
       "  </thead>\n",
       "  <tbody>\n",
       "    <tr>\n",
       "      <th>0</th>\n",
       "      <td>1</td>\n",
       "      <td>01-01-2018</td>\n",
       "      <td>1</td>\n",
       "      <td>0</td>\n",
       "      <td>1</td>\n",
       "      <td>0</td>\n",
       "      <td>1</td>\n",
       "      <td>1</td>\n",
       "      <td>2</td>\n",
       "      <td>14.110847</td>\n",
       "      <td>18.18125</td>\n",
       "      <td>80.5833</td>\n",
       "      <td>10.749882</td>\n",
       "      <td>331</td>\n",
       "      <td>654</td>\n",
       "      <td>985</td>\n",
       "    </tr>\n",
       "    <tr>\n",
       "      <th>1</th>\n",
       "      <td>2</td>\n",
       "      <td>02-01-2018</td>\n",
       "      <td>1</td>\n",
       "      <td>0</td>\n",
       "      <td>1</td>\n",
       "      <td>0</td>\n",
       "      <td>2</td>\n",
       "      <td>1</td>\n",
       "      <td>2</td>\n",
       "      <td>14.902598</td>\n",
       "      <td>17.68695</td>\n",
       "      <td>69.6087</td>\n",
       "      <td>16.652113</td>\n",
       "      <td>131</td>\n",
       "      <td>670</td>\n",
       "      <td>801</td>\n",
       "    </tr>\n",
       "    <tr>\n",
       "      <th>2</th>\n",
       "      <td>3</td>\n",
       "      <td>03-01-2018</td>\n",
       "      <td>1</td>\n",
       "      <td>0</td>\n",
       "      <td>1</td>\n",
       "      <td>0</td>\n",
       "      <td>3</td>\n",
       "      <td>1</td>\n",
       "      <td>1</td>\n",
       "      <td>8.050924</td>\n",
       "      <td>9.47025</td>\n",
       "      <td>43.7273</td>\n",
       "      <td>16.636703</td>\n",
       "      <td>120</td>\n",
       "      <td>1229</td>\n",
       "      <td>1349</td>\n",
       "    </tr>\n",
       "    <tr>\n",
       "      <th>3</th>\n",
       "      <td>4</td>\n",
       "      <td>04-01-2018</td>\n",
       "      <td>1</td>\n",
       "      <td>0</td>\n",
       "      <td>1</td>\n",
       "      <td>0</td>\n",
       "      <td>4</td>\n",
       "      <td>1</td>\n",
       "      <td>1</td>\n",
       "      <td>8.200000</td>\n",
       "      <td>10.60610</td>\n",
       "      <td>59.0435</td>\n",
       "      <td>10.739832</td>\n",
       "      <td>108</td>\n",
       "      <td>1454</td>\n",
       "      <td>1562</td>\n",
       "    </tr>\n",
       "    <tr>\n",
       "      <th>4</th>\n",
       "      <td>5</td>\n",
       "      <td>05-01-2018</td>\n",
       "      <td>1</td>\n",
       "      <td>0</td>\n",
       "      <td>1</td>\n",
       "      <td>0</td>\n",
       "      <td>5</td>\n",
       "      <td>1</td>\n",
       "      <td>1</td>\n",
       "      <td>9.305237</td>\n",
       "      <td>11.46350</td>\n",
       "      <td>43.6957</td>\n",
       "      <td>12.522300</td>\n",
       "      <td>82</td>\n",
       "      <td>1518</td>\n",
       "      <td>1600</td>\n",
       "    </tr>\n",
       "  </tbody>\n",
       "</table>\n",
       "</div>"
      ],
      "text/plain": [
       "   instant      dteday  season  yr  mnth  holiday  weekday  workingday  \\\n",
       "0        1  01-01-2018       1   0     1        0        1           1   \n",
       "1        2  02-01-2018       1   0     1        0        2           1   \n",
       "2        3  03-01-2018       1   0     1        0        3           1   \n",
       "3        4  04-01-2018       1   0     1        0        4           1   \n",
       "4        5  05-01-2018       1   0     1        0        5           1   \n",
       "\n",
       "   weathersit       temp     atemp      hum  windspeed  casual  registered  \\\n",
       "0           2  14.110847  18.18125  80.5833  10.749882     331         654   \n",
       "1           2  14.902598  17.68695  69.6087  16.652113     131         670   \n",
       "2           1   8.050924   9.47025  43.7273  16.636703     120        1229   \n",
       "3           1   8.200000  10.60610  59.0435  10.739832     108        1454   \n",
       "4           1   9.305237  11.46350  43.6957  12.522300      82        1518   \n",
       "\n",
       "    cnt  \n",
       "0   985  \n",
       "1   801  \n",
       "2  1349  \n",
       "3  1562  \n",
       "4  1600  "
      ]
     },
     "execution_count": 5,
     "metadata": {},
     "output_type": "execute_result"
    }
   ],
   "source": [
    "df.head()"
   ]
  },
  {
   "cell_type": "markdown",
   "id": "35588ddd",
   "metadata": {},
   "source": [
    "We see all the colums here are numeric one. So there is no need for mapping."
   ]
  },
  {
   "cell_type": "code",
   "execution_count": 6,
   "id": "3835784a",
   "metadata": {},
   "outputs": [
    {
     "data": {
      "text/plain": [
       "(730, 16)"
      ]
     },
     "execution_count": 6,
     "metadata": {},
     "output_type": "execute_result"
    }
   ],
   "source": [
    "from datetime import datetime\n",
    "\n",
    "#we will see how certain variables act over the timeline\n",
    "\n",
    "df['day'] = pd.to_datetime(df['dteday'], format='%d-%m-%Y')\n",
    "df = df.drop(['dteday'], axis = 1)\n",
    "df.shape"
   ]
  },
  {
   "cell_type": "code",
   "execution_count": 7,
   "id": "5f1a9c49",
   "metadata": {},
   "outputs": [],
   "source": [
    "import matplotlib.pyplot as plt\n",
    "import seaborn as sns\n",
    "sns.set_style('whitegrid')\n",
    "%matplotlib inline"
   ]
  },
  {
   "cell_type": "code",
   "execution_count": 8,
   "id": "e8690128",
   "metadata": {
    "scrolled": true
   },
   "outputs": [
    {
     "data": {
      "text/plain": [
       "[Text(0.5, 0, 'Day'),\n",
       " Text(0, 0.5, 'Rides'),\n",
       " Text(0.5, 1.0, 'Rides over the timeframe')]"
      ]
     },
     "execution_count": 8,
     "metadata": {},
     "output_type": "execute_result"
    },
    {
     "data": {
      "image/png": "[encoded data removed]",
      "text/plain": [
       "<Figure size 720x288 with 1 Axes>"
      ]
     },
     "metadata": {
      "needs_background": "light"
     },
     "output_type": "display_data"
    }
   ],
   "source": [
    "fig, ax = plt.subplots(figsize=(10,4))\n",
    "x1 = sns.lineplot(data=df, color = 'green', x='day', y='cnt')\n",
    "x1.set(xlabel = 'Day', ylabel = 'Rides', title = 'Rides over the timeframe')"
   ]
  },
  {
   "cell_type": "code",
   "execution_count": 9,
   "id": "dc2076bf",
   "metadata": {},
   "outputs": [
    {
     "data": {
      "text/plain": [
       "[Text(0.5, 0, 'Day'),\n",
       " Text(0, 0.5, 'Air Temperature'),\n",
       " Text(0.5, 1.0, 'Seasonality of Temperature')]"
      ]
     },
     "execution_count": 9,
     "metadata": {},
     "output_type": "execute_result"
    },
    {
     "data": {
      "image/png": "[encoded data removed]",
      "text/plain": [
       "<Figure size 720x288 with 1 Axes>"
      ]
     },
     "metadata": {
      "needs_background": "light"
     },
     "output_type": "display_data"
    }
   ],
   "source": [
    "fig, ax = plt.subplots(figsize=(10,4))\n",
    "x2 = sns.lineplot(data=df, color = 'green', x='day', y='temp')\n",
    "x2.set(xlabel = 'Day', ylabel = 'Air Temperature', title = 'Seasonality of Temperature')"
   ]
  },
  {
   "cell_type": "code",
   "execution_count": 10,
   "id": "e70e2882",
   "metadata": {},
   "outputs": [
    {
     "data": {
      "text/plain": [
       "[Text(0.5, 0, 'Day'),\n",
       " Text(0, 0.5, 'Humidity'),\n",
       " Text(0.5, 1.0, 'Seasonality of Humidity')]"
      ]
     },
     "execution_count": 10,
     "metadata": {},
     "output_type": "execute_result"
    },
    {
     "data": {
      "image/png": "[encoded data removed]",
      "text/plain": [
       "<Figure size 720x288 with 1 Axes>"
      ]
     },
     "metadata": {
      "needs_background": "light"
     },
     "output_type": "display_data"
    }
   ],
   "source": [
    "fig, ax = plt.subplots(figsize=(10,4))\n",
    "x3 = sns.lineplot(data=df, color = 'green', x='day', y='hum')\n",
    "x3.set(xlabel = 'Day', ylabel = 'Humidity', title = 'Seasonality of Humidity')"
   ]
  },
  {
   "cell_type": "code",
   "execution_count": 11,
   "id": "8bc813a9",
   "metadata": {},
   "outputs": [],
   "source": [
    "df = df.drop(['day'], axis = 1)"
   ]
  },
  {
   "cell_type": "markdown",
   "id": "347b2ac6",
   "metadata": {},
   "source": [
    "* The peaks and valleys of Air Temperature and the Counts roughly coincide. While Humidity shows no such relation. Additionally Temperature behaves like Air Temperature, and Windspeed behaves like Humidity."
   ]
  },
  {
   "cell_type": "markdown",
   "id": "1922b979",
   "metadata": {},
   "source": [
    "# Understanding and Visualizing the data"
   ]
  },
  {
   "cell_type": "code",
   "execution_count": 12,
   "id": "14ca76b7",
   "metadata": {},
   "outputs": [
    {
     "data": {
      "text/html": [
       "<div>\n",
       "<style scoped>\n",
       "    .dataframe tbody tr th:only-of-type {\n",
       "        vertical-align: middle;\n",
       "    }\n",
       "\n",
       "    .dataframe tbody tr th {\n",
       "        vertical-align: top;\n",
       "    }\n",
       "\n",
       "    .dataframe thead th {\n",
       "        text-align: right;\n",
       "    }\n",
       "</style>\n",
       "<table border=\"1\" class=\"dataframe\">\n",
       "  <thead>\n",
       "    <tr style=\"text-align: right;\">\n",
       "      <th></th>\n",
       "      <th>instant</th>\n",
       "      <th>season</th>\n",
       "      <th>yr</th>\n",
       "      <th>mnth</th>\n",
       "      <th>holiday</th>\n",
       "      <th>weekday</th>\n",
       "      <th>workingday</th>\n",
       "      <th>weathersit</th>\n",
       "      <th>temp</th>\n",
       "      <th>atemp</th>\n",
       "      <th>hum</th>\n",
       "      <th>windspeed</th>\n",
       "      <th>casual</th>\n",
       "      <th>registered</th>\n",
       "      <th>cnt</th>\n",
       "    </tr>\n",
       "  </thead>\n",
       "  <tbody>\n",
       "    <tr>\n",
       "      <th>count</th>\n",
       "      <td>730.000000</td>\n",
       "      <td>730.000000</td>\n",
       "      <td>730.000000</td>\n",
       "      <td>730.000000</td>\n",
       "      <td>730.000000</td>\n",
       "      <td>730.000000</td>\n",
       "      <td>730.000000</td>\n",
       "      <td>730.000000</td>\n",
       "      <td>730.000000</td>\n",
       "      <td>730.000000</td>\n",
       "      <td>730.000000</td>\n",
       "      <td>730.000000</td>\n",
       "      <td>730.000000</td>\n",
       "      <td>730.000000</td>\n",
       "      <td>730.000000</td>\n",
       "    </tr>\n",
       "    <tr>\n",
       "      <th>mean</th>\n",
       "      <td>365.500000</td>\n",
       "      <td>2.498630</td>\n",
       "      <td>0.500000</td>\n",
       "      <td>6.526027</td>\n",
       "      <td>0.028767</td>\n",
       "      <td>2.995890</td>\n",
       "      <td>0.690411</td>\n",
       "      <td>1.394521</td>\n",
       "      <td>20.319259</td>\n",
       "      <td>23.726322</td>\n",
       "      <td>62.765175</td>\n",
       "      <td>12.763620</td>\n",
       "      <td>849.249315</td>\n",
       "      <td>3658.757534</td>\n",
       "      <td>4508.006849</td>\n",
       "    </tr>\n",
       "    <tr>\n",
       "      <th>std</th>\n",
       "      <td>210.877136</td>\n",
       "      <td>1.110184</td>\n",
       "      <td>0.500343</td>\n",
       "      <td>3.450215</td>\n",
       "      <td>0.167266</td>\n",
       "      <td>2.000339</td>\n",
       "      <td>0.462641</td>\n",
       "      <td>0.544807</td>\n",
       "      <td>7.506729</td>\n",
       "      <td>8.150308</td>\n",
       "      <td>14.237589</td>\n",
       "      <td>5.195841</td>\n",
       "      <td>686.479875</td>\n",
       "      <td>1559.758728</td>\n",
       "      <td>1936.011647</td>\n",
       "    </tr>\n",
       "    <tr>\n",
       "      <th>min</th>\n",
       "      <td>1.000000</td>\n",
       "      <td>1.000000</td>\n",
       "      <td>0.000000</td>\n",
       "      <td>1.000000</td>\n",
       "      <td>0.000000</td>\n",
       "      <td>0.000000</td>\n",
       "      <td>0.000000</td>\n",
       "      <td>1.000000</td>\n",
       "      <td>2.424346</td>\n",
       "      <td>3.953480</td>\n",
       "      <td>0.000000</td>\n",
       "      <td>1.500244</td>\n",
       "      <td>2.000000</td>\n",
       "      <td>20.000000</td>\n",
       "      <td>22.000000</td>\n",
       "    </tr>\n",
       "    <tr>\n",
       "      <th>25%</th>\n",
       "      <td>183.250000</td>\n",
       "      <td>2.000000</td>\n",
       "      <td>0.000000</td>\n",
       "      <td>4.000000</td>\n",
       "      <td>0.000000</td>\n",
       "      <td>1.000000</td>\n",
       "      <td>0.000000</td>\n",
       "      <td>1.000000</td>\n",
       "      <td>13.811885</td>\n",
       "      <td>16.889713</td>\n",
       "      <td>52.000000</td>\n",
       "      <td>9.041650</td>\n",
       "      <td>316.250000</td>\n",
       "      <td>2502.250000</td>\n",
       "      <td>3169.750000</td>\n",
       "    </tr>\n",
       "    <tr>\n",
       "      <th>50%</th>\n",
       "      <td>365.500000</td>\n",
       "      <td>3.000000</td>\n",
       "      <td>0.500000</td>\n",
       "      <td>7.000000</td>\n",
       "      <td>0.000000</td>\n",
       "      <td>3.000000</td>\n",
       "      <td>1.000000</td>\n",
       "      <td>1.000000</td>\n",
       "      <td>20.465826</td>\n",
       "      <td>24.368225</td>\n",
       "      <td>62.625000</td>\n",
       "      <td>12.125325</td>\n",
       "      <td>717.000000</td>\n",
       "      <td>3664.500000</td>\n",
       "      <td>4548.500000</td>\n",
       "    </tr>\n",
       "    <tr>\n",
       "      <th>75%</th>\n",
       "      <td>547.750000</td>\n",
       "      <td>3.000000</td>\n",
       "      <td>1.000000</td>\n",
       "      <td>10.000000</td>\n",
       "      <td>0.000000</td>\n",
       "      <td>5.000000</td>\n",
       "      <td>1.000000</td>\n",
       "      <td>2.000000</td>\n",
       "      <td>26.880615</td>\n",
       "      <td>30.445775</td>\n",
       "      <td>72.989575</td>\n",
       "      <td>15.625589</td>\n",
       "      <td>1096.500000</td>\n",
       "      <td>4783.250000</td>\n",
       "      <td>5966.000000</td>\n",
       "    </tr>\n",
       "    <tr>\n",
       "      <th>max</th>\n",
       "      <td>730.000000</td>\n",
       "      <td>4.000000</td>\n",
       "      <td>1.000000</td>\n",
       "      <td>12.000000</td>\n",
       "      <td>1.000000</td>\n",
       "      <td>6.000000</td>\n",
       "      <td>1.000000</td>\n",
       "      <td>3.000000</td>\n",
       "      <td>35.328347</td>\n",
       "      <td>42.044800</td>\n",
       "      <td>97.250000</td>\n",
       "      <td>34.000021</td>\n",
       "      <td>3410.000000</td>\n",
       "      <td>6946.000000</td>\n",
       "      <td>8714.000000</td>\n",
       "    </tr>\n",
       "  </tbody>\n",
       "</table>\n",
       "</div>"
      ],
      "text/plain": [
       "          instant      season          yr        mnth     holiday     weekday  \\\n",
       "count  730.000000  730.000000  730.000000  730.000000  730.000000  730.000000   \n",
       "mean   365.500000    2.498630    0.500000    6.526027    0.028767    2.995890   \n",
       "std    210.877136    1.110184    0.500343    3.450215    0.167266    2.000339   \n",
       "min      1.000000    1.000000    0.000000    1.000000    0.000000    0.000000   \n",
       "25%    183.250000    2.000000    0.000000    4.000000    0.000000    1.000000   \n",
       "50%    365.500000    3.000000    0.500000    7.000000    0.000000    3.000000   \n",
       "75%    547.750000    3.000000    1.000000   10.000000    0.000000    5.000000   \n",
       "max    730.000000    4.000000    1.000000   12.000000    1.000000    6.000000   \n",
       "\n",
       "       workingday  weathersit        temp       atemp         hum   windspeed  \\\n",
       "count  730.000000  730.000000  730.000000  730.000000  730.000000  730.000000   \n",
       "mean     0.690411    1.394521   20.319259   23.726322   62.765175   12.763620   \n",
       "std      0.462641    0.544807    7.506729    8.150308   14.237589    5.195841   \n",
       "min      0.000000    1.000000    2.424346    3.953480    0.000000    1.500244   \n",
       "25%      0.000000    1.000000   13.811885   16.889713   52.000000    9.041650   \n",
       "50%      1.000000    1.000000   20.465826   24.368225   62.625000   12.125325   \n",
       "75%      1.000000    2.000000   26.880615   30.445775   72.989575   15.625589   \n",
       "max      1.000000    3.000000   35.328347   42.044800   97.250000   34.000021   \n",
       "\n",
       "            casual   registered          cnt  \n",
       "count   730.000000   730.000000   730.000000  \n",
       "mean    849.249315  3658.757534  4508.006849  \n",
       "std     686.479875  1559.758728  1936.011647  \n",
       "min       2.000000    20.000000    22.000000  \n",
       "25%     316.250000  2502.250000  3169.750000  \n",
       "50%     717.000000  3664.500000  4548.500000  \n",
       "75%    1096.500000  4783.250000  5966.000000  \n",
       "max    3410.000000  6946.000000  8714.000000  "
      ]
     },
     "execution_count": 12,
     "metadata": {},
     "output_type": "execute_result"
    }
   ],
   "source": [
    "df.describe()"
   ]
  },
  {
   "cell_type": "code",
   "execution_count": 13,
   "id": "a23bb92c",
   "metadata": {},
   "outputs": [
    {
     "data": {
      "text/plain": [
       "0"
      ]
     },
     "execution_count": 13,
     "metadata": {},
     "output_type": "execute_result"
    }
   ],
   "source": [
    "df.columns.isnull().sum() # there are no missing values"
   ]
  },
  {
   "cell_type": "code",
   "execution_count": 14,
   "id": "e24d6344",
   "metadata": {},
   "outputs": [
    {
     "data": {
      "text/html": [
       "<div>\n",
       "<style scoped>\n",
       "    .dataframe tbody tr th:only-of-type {\n",
       "        vertical-align: middle;\n",
       "    }\n",
       "\n",
       "    .dataframe tbody tr th {\n",
       "        vertical-align: top;\n",
       "    }\n",
       "\n",
       "    .dataframe thead th {\n",
       "        text-align: right;\n",
       "    }\n",
       "</style>\n",
       "<table border=\"1\" class=\"dataframe\">\n",
       "  <thead>\n",
       "    <tr style=\"text-align: right;\">\n",
       "      <th></th>\n",
       "      <th>mnth</th>\n",
       "      <th>weekday</th>\n",
       "      <th>season</th>\n",
       "      <th>weathersit</th>\n",
       "      <th>holiday</th>\n",
       "      <th>workingday</th>\n",
       "      <th>yr</th>\n",
       "    </tr>\n",
       "  </thead>\n",
       "  <tbody>\n",
       "    <tr>\n",
       "      <th>0</th>\n",
       "      <td>NaN</td>\n",
       "      <td>104.0</td>\n",
       "      <td>NaN</td>\n",
       "      <td>NaN</td>\n",
       "      <td>709.0</td>\n",
       "      <td>226.0</td>\n",
       "      <td>365.0</td>\n",
       "    </tr>\n",
       "    <tr>\n",
       "      <th>1</th>\n",
       "      <td>62.0</td>\n",
       "      <td>105.0</td>\n",
       "      <td>180.0</td>\n",
       "      <td>463.0</td>\n",
       "      <td>21.0</td>\n",
       "      <td>504.0</td>\n",
       "      <td>365.0</td>\n",
       "    </tr>\n",
       "    <tr>\n",
       "      <th>2</th>\n",
       "      <td>56.0</td>\n",
       "      <td>105.0</td>\n",
       "      <td>184.0</td>\n",
       "      <td>246.0</td>\n",
       "      <td>NaN</td>\n",
       "      <td>NaN</td>\n",
       "      <td>NaN</td>\n",
       "    </tr>\n",
       "    <tr>\n",
       "      <th>3</th>\n",
       "      <td>62.0</td>\n",
       "      <td>104.0</td>\n",
       "      <td>188.0</td>\n",
       "      <td>21.0</td>\n",
       "      <td>NaN</td>\n",
       "      <td>NaN</td>\n",
       "      <td>NaN</td>\n",
       "    </tr>\n",
       "    <tr>\n",
       "      <th>4</th>\n",
       "      <td>60.0</td>\n",
       "      <td>104.0</td>\n",
       "      <td>178.0</td>\n",
       "      <td>NaN</td>\n",
       "      <td>NaN</td>\n",
       "      <td>NaN</td>\n",
       "      <td>NaN</td>\n",
       "    </tr>\n",
       "    <tr>\n",
       "      <th>5</th>\n",
       "      <td>62.0</td>\n",
       "      <td>104.0</td>\n",
       "      <td>NaN</td>\n",
       "      <td>NaN</td>\n",
       "      <td>NaN</td>\n",
       "      <td>NaN</td>\n",
       "      <td>NaN</td>\n",
       "    </tr>\n",
       "    <tr>\n",
       "      <th>6</th>\n",
       "      <td>60.0</td>\n",
       "      <td>104.0</td>\n",
       "      <td>NaN</td>\n",
       "      <td>NaN</td>\n",
       "      <td>NaN</td>\n",
       "      <td>NaN</td>\n",
       "      <td>NaN</td>\n",
       "    </tr>\n",
       "    <tr>\n",
       "      <th>7</th>\n",
       "      <td>62.0</td>\n",
       "      <td>NaN</td>\n",
       "      <td>NaN</td>\n",
       "      <td>NaN</td>\n",
       "      <td>NaN</td>\n",
       "      <td>NaN</td>\n",
       "      <td>NaN</td>\n",
       "    </tr>\n",
       "    <tr>\n",
       "      <th>8</th>\n",
       "      <td>62.0</td>\n",
       "      <td>NaN</td>\n",
       "      <td>NaN</td>\n",
       "      <td>NaN</td>\n",
       "      <td>NaN</td>\n",
       "      <td>NaN</td>\n",
       "      <td>NaN</td>\n",
       "    </tr>\n",
       "    <tr>\n",
       "      <th>9</th>\n",
       "      <td>60.0</td>\n",
       "      <td>NaN</td>\n",
       "      <td>NaN</td>\n",
       "      <td>NaN</td>\n",
       "      <td>NaN</td>\n",
       "      <td>NaN</td>\n",
       "      <td>NaN</td>\n",
       "    </tr>\n",
       "    <tr>\n",
       "      <th>10</th>\n",
       "      <td>62.0</td>\n",
       "      <td>NaN</td>\n",
       "      <td>NaN</td>\n",
       "      <td>NaN</td>\n",
       "      <td>NaN</td>\n",
       "      <td>NaN</td>\n",
       "      <td>NaN</td>\n",
       "    </tr>\n",
       "    <tr>\n",
       "      <th>11</th>\n",
       "      <td>60.0</td>\n",
       "      <td>NaN</td>\n",
       "      <td>NaN</td>\n",
       "      <td>NaN</td>\n",
       "      <td>NaN</td>\n",
       "      <td>NaN</td>\n",
       "      <td>NaN</td>\n",
       "    </tr>\n",
       "    <tr>\n",
       "      <th>12</th>\n",
       "      <td>62.0</td>\n",
       "      <td>NaN</td>\n",
       "      <td>NaN</td>\n",
       "      <td>NaN</td>\n",
       "      <td>NaN</td>\n",
       "      <td>NaN</td>\n",
       "      <td>NaN</td>\n",
       "    </tr>\n",
       "  </tbody>\n",
       "</table>\n",
       "</div>"
      ],
      "text/plain": [
       "    mnth  weekday  season  weathersit  holiday  workingday     yr\n",
       "0    NaN    104.0     NaN         NaN    709.0       226.0  365.0\n",
       "1   62.0    105.0   180.0       463.0     21.0       504.0  365.0\n",
       "2   56.0    105.0   184.0       246.0      NaN         NaN    NaN\n",
       "3   62.0    104.0   188.0        21.0      NaN         NaN    NaN\n",
       "4   60.0    104.0   178.0         NaN      NaN         NaN    NaN\n",
       "5   62.0    104.0     NaN         NaN      NaN         NaN    NaN\n",
       "6   60.0    104.0     NaN         NaN      NaN         NaN    NaN\n",
       "7   62.0      NaN     NaN         NaN      NaN         NaN    NaN\n",
       "8   62.0      NaN     NaN         NaN      NaN         NaN    NaN\n",
       "9   60.0      NaN     NaN         NaN      NaN         NaN    NaN\n",
       "10  62.0      NaN     NaN         NaN      NaN         NaN    NaN\n",
       "11  60.0      NaN     NaN         NaN      NaN         NaN    NaN\n",
       "12  62.0      NaN     NaN         NaN      NaN         NaN    NaN"
      ]
     },
     "execution_count": 14,
     "metadata": {},
     "output_type": "execute_result"
    }
   ],
   "source": [
    "varlist = ['mnth', 'weekday','season', 'weathersit', 'holiday','workingday', 'yr']\n",
    "def vcountf(x):\n",
    "    return x.value_counts()\n",
    "\n",
    "rf = df[varlist].apply(vcountf)\n",
    "rf\n",
    "\n",
    "#checking the levels of the categorical variables"
   ]
  },
  {
   "cell_type": "markdown",
   "id": "2b14a42f",
   "metadata": {},
   "source": [
    "#### Weathersit, mnth,  and season do not have 0 as the base level. "
   ]
  },
  {
   "cell_type": "code",
   "execution_count": 15,
   "id": "9628279a",
   "metadata": {},
   "outputs": [],
   "source": [
    "def idresetxx(x):\n",
    "    return x-1\n",
    "df['weathersit'] = df['weathersit'].apply(idresetxx)\n",
    "df['season'] = df['season'].apply(idresetxx)\n"
   ]
  },
  {
   "cell_type": "code",
   "execution_count": 16,
   "id": "95654aaf",
   "metadata": {},
   "outputs": [],
   "source": [
    "df['mnth'] = df['mnth'].apply(idresetxx)"
   ]
  },
  {
   "cell_type": "code",
   "execution_count": 17,
   "id": "f4df90fb",
   "metadata": {},
   "outputs": [
    {
     "data": {
      "text/html": [
       "<div>\n",
       "<style scoped>\n",
       "    .dataframe tbody tr th:only-of-type {\n",
       "        vertical-align: middle;\n",
       "    }\n",
       "\n",
       "    .dataframe tbody tr th {\n",
       "        vertical-align: top;\n",
       "    }\n",
       "\n",
       "    .dataframe thead th {\n",
       "        text-align: right;\n",
       "    }\n",
       "</style>\n",
       "<table border=\"1\" class=\"dataframe\">\n",
       "  <thead>\n",
       "    <tr style=\"text-align: right;\">\n",
       "      <th></th>\n",
       "      <th>mnth</th>\n",
       "      <th>weekday</th>\n",
       "      <th>season</th>\n",
       "      <th>weathersit</th>\n",
       "      <th>holiday</th>\n",
       "      <th>workingday</th>\n",
       "      <th>yr</th>\n",
       "    </tr>\n",
       "  </thead>\n",
       "  <tbody>\n",
       "    <tr>\n",
       "      <th>0</th>\n",
       "      <td>62</td>\n",
       "      <td>104.0</td>\n",
       "      <td>180.0</td>\n",
       "      <td>463.0</td>\n",
       "      <td>709.0</td>\n",
       "      <td>226.0</td>\n",
       "      <td>365.0</td>\n",
       "    </tr>\n",
       "    <tr>\n",
       "      <th>1</th>\n",
       "      <td>56</td>\n",
       "      <td>105.0</td>\n",
       "      <td>184.0</td>\n",
       "      <td>246.0</td>\n",
       "      <td>21.0</td>\n",
       "      <td>504.0</td>\n",
       "      <td>365.0</td>\n",
       "    </tr>\n",
       "    <tr>\n",
       "      <th>2</th>\n",
       "      <td>62</td>\n",
       "      <td>105.0</td>\n",
       "      <td>188.0</td>\n",
       "      <td>21.0</td>\n",
       "      <td>NaN</td>\n",
       "      <td>NaN</td>\n",
       "      <td>NaN</td>\n",
       "    </tr>\n",
       "    <tr>\n",
       "      <th>3</th>\n",
       "      <td>60</td>\n",
       "      <td>104.0</td>\n",
       "      <td>178.0</td>\n",
       "      <td>NaN</td>\n",
       "      <td>NaN</td>\n",
       "      <td>NaN</td>\n",
       "      <td>NaN</td>\n",
       "    </tr>\n",
       "    <tr>\n",
       "      <th>4</th>\n",
       "      <td>62</td>\n",
       "      <td>104.0</td>\n",
       "      <td>NaN</td>\n",
       "      <td>NaN</td>\n",
       "      <td>NaN</td>\n",
       "      <td>NaN</td>\n",
       "      <td>NaN</td>\n",
       "    </tr>\n",
       "    <tr>\n",
       "      <th>5</th>\n",
       "      <td>60</td>\n",
       "      <td>104.0</td>\n",
       "      <td>NaN</td>\n",
       "      <td>NaN</td>\n",
       "      <td>NaN</td>\n",
       "      <td>NaN</td>\n",
       "      <td>NaN</td>\n",
       "    </tr>\n",
       "    <tr>\n",
       "      <th>6</th>\n",
       "      <td>62</td>\n",
       "      <td>104.0</td>\n",
       "      <td>NaN</td>\n",
       "      <td>NaN</td>\n",
       "      <td>NaN</td>\n",
       "      <td>NaN</td>\n",
       "      <td>NaN</td>\n",
       "    </tr>\n",
       "    <tr>\n",
       "      <th>7</th>\n",
       "      <td>62</td>\n",
       "      <td>NaN</td>\n",
       "      <td>NaN</td>\n",
       "      <td>NaN</td>\n",
       "      <td>NaN</td>\n",
       "      <td>NaN</td>\n",
       "      <td>NaN</td>\n",
       "    </tr>\n",
       "    <tr>\n",
       "      <th>8</th>\n",
       "      <td>60</td>\n",
       "      <td>NaN</td>\n",
       "      <td>NaN</td>\n",
       "      <td>NaN</td>\n",
       "      <td>NaN</td>\n",
       "      <td>NaN</td>\n",
       "      <td>NaN</td>\n",
       "    </tr>\n",
       "    <tr>\n",
       "      <th>9</th>\n",
       "      <td>62</td>\n",
       "      <td>NaN</td>\n",
       "      <td>NaN</td>\n",
       "      <td>NaN</td>\n",
       "      <td>NaN</td>\n",
       "      <td>NaN</td>\n",
       "      <td>NaN</td>\n",
       "    </tr>\n",
       "    <tr>\n",
       "      <th>10</th>\n",
       "      <td>60</td>\n",
       "      <td>NaN</td>\n",
       "      <td>NaN</td>\n",
       "      <td>NaN</td>\n",
       "      <td>NaN</td>\n",
       "      <td>NaN</td>\n",
       "      <td>NaN</td>\n",
       "    </tr>\n",
       "    <tr>\n",
       "      <th>11</th>\n",
       "      <td>62</td>\n",
       "      <td>NaN</td>\n",
       "      <td>NaN</td>\n",
       "      <td>NaN</td>\n",
       "      <td>NaN</td>\n",
       "      <td>NaN</td>\n",
       "      <td>NaN</td>\n",
       "    </tr>\n",
       "  </tbody>\n",
       "</table>\n",
       "</div>"
      ],
      "text/plain": [
       "    mnth  weekday  season  weathersit  holiday  workingday     yr\n",
       "0     62    104.0   180.0       463.0    709.0       226.0  365.0\n",
       "1     56    105.0   184.0       246.0     21.0       504.0  365.0\n",
       "2     62    105.0   188.0        21.0      NaN         NaN    NaN\n",
       "3     60    104.0   178.0         NaN      NaN         NaN    NaN\n",
       "4     62    104.0     NaN         NaN      NaN         NaN    NaN\n",
       "5     60    104.0     NaN         NaN      NaN         NaN    NaN\n",
       "6     62    104.0     NaN         NaN      NaN         NaN    NaN\n",
       "7     62      NaN     NaN         NaN      NaN         NaN    NaN\n",
       "8     60      NaN     NaN         NaN      NaN         NaN    NaN\n",
       "9     62      NaN     NaN         NaN      NaN         NaN    NaN\n",
       "10    60      NaN     NaN         NaN      NaN         NaN    NaN\n",
       "11    62      NaN     NaN         NaN      NaN         NaN    NaN"
      ]
     },
     "execution_count": 17,
     "metadata": {},
     "output_type": "execute_result"
    }
   ],
   "source": [
    "rf = df[varlist].apply(vcountf)\n",
    "rf"
   ]
  },
  {
   "cell_type": "markdown",
   "id": "c360f4e2",
   "metadata": {},
   "source": [
    "Dragging them to the same levels"
   ]
  },
  {
   "cell_type": "code",
   "execution_count": 18,
   "id": "ac06bd76",
   "metadata": {},
   "outputs": [
    {
     "data": {
      "text/plain": [
       "instant         int64\n",
       "season          int64\n",
       "yr              int64\n",
       "mnth            int64\n",
       "holiday         int64\n",
       "weekday         int64\n",
       "workingday      int64\n",
       "weathersit      int64\n",
       "temp          float64\n",
       "atemp         float64\n",
       "hum           float64\n",
       "windspeed     float64\n",
       "casual          int64\n",
       "registered      int64\n",
       "cnt             int64\n",
       "dtype: object"
      ]
     },
     "execution_count": 18,
     "metadata": {},
     "output_type": "execute_result"
    }
   ],
   "source": [
    "df.dtypes #there are no object types"
   ]
  },
  {
   "cell_type": "markdown",
   "id": "319cdd4f",
   "metadata": {},
   "source": [
    "### Plotting the categorical variables against 'cnt'"
   ]
  },
  {
   "cell_type": "code",
   "execution_count": 19,
   "id": "a5ee020b",
   "metadata": {},
   "outputs": [
    {
     "data": {
      "text/plain": [
       "<AxesSubplot:xlabel='weathersit', ylabel='cnt'>"
      ]
     },
     "execution_count": 19,
     "metadata": {},
     "output_type": "execute_result"
    },
    {
     "data": {
      "image/png": "[encoded data removed]",
      "text/plain": [
       "<Figure size 1152x1152 with 8 Axes>"
      ]
     },
     "metadata": {
      "needs_background": "light"
     },
     "output_type": "display_data"
    }
   ],
   "source": [
    "\n",
    "fig, axes = plt.subplots(4,2, figsize=(16,16))\n",
    "sns.boxplot(data=df, x='season', y='cnt', ax=axes[0,0])\n",
    "sns.boxplot(data=df, x='yr', y='cnt', ax=axes[0,1])\n",
    "sns.boxplot(data=df, x='mnth', y='cnt', ax=axes[1,0])\n",
    "sns.boxplot(data=df, x='holiday', y='cnt', ax=axes[1,1])\n",
    "sns.boxplot(data=df, x='weekday', y='cnt', ax=axes[2,0])\n",
    "sns.boxplot(data=df, x='workingday', y='cnt', ax=axes[2,1])\n",
    "sns.boxplot(data=df, x='weathersit', y='cnt', ax=axes[3,0])\n"
   ]
  },
  {
   "cell_type": "markdown",
   "id": "1591674c",
   "metadata": {},
   "source": [
    "#### From the basic seasonality pattern and [0,0], [1,0] of this plot:\n",
    "   1. Second and Third season shows considerable growth in business\n",
    "\n",
    "\n",
    "*There is not Much impact of the day of the week, but holidays ofcourse affect the business\n",
    "\n",
    "\n",
    "*Business Improved in Second Year\n",
    "\n",
    "\n",
    "*Weather has impact on business\n"
   ]
  },
  {
   "cell_type": "markdown",
   "id": "183f930a",
   "metadata": {},
   "source": [
    "### Plotting the continuous variables against 'cnt'"
   ]
  },
  {
   "cell_type": "code",
   "execution_count": 20,
   "id": "05dcb6f8",
   "metadata": {},
   "outputs": [
    {
     "data": {
      "text/plain": [
       "<AxesSubplot:xlabel='registered', ylabel='cnt'>"
      ]
     },
     "execution_count": 20,
     "metadata": {},
     "output_type": "execute_result"
    },
    {
     "data": {
      "image/png": "[encoded data removed]",
      "text/plain": [
       "<Figure size 1152x864 with 6 Axes>"
      ]
     },
     "metadata": {
      "needs_background": "light"
     },
     "output_type": "display_data"
    }
   ],
   "source": [
    "\n",
    "fig, axes = plt.subplots(3,2, figsize=(16,12))\n",
    "sns.scatterplot(data=df, x='temp', y='cnt', ax=axes[0,0])\n",
    "sns.scatterplot(data=df, x='atemp', y='cnt', ax=axes[0,1])\n",
    "sns.scatterplot(data=df, x='hum', y='cnt', ax=axes[1,0])\n",
    "sns.scatterplot(data=df, x='windspeed', y='cnt', ax=axes[1,1])\n",
    "sns.scatterplot(data=df, x='casual', y='cnt', ax=axes[2,0])\n",
    "sns.scatterplot(data=df, x='registered', y='cnt', ax=axes[2,1])\n",
    "\n"
   ]
  },
  {
   "cell_type": "code",
   "execution_count": 21,
   "id": "3e8a5ecd",
   "metadata": {},
   "outputs": [],
   "source": [
    "df = df.drop(['instant'], axis = 1)"
   ]
  },
  {
   "cell_type": "markdown",
   "id": "6b294076",
   "metadata": {},
   "source": [
    "* 'temp', 'atemp' shows high correlation with 'cnt'\n",
    "* 'cnt' from the registered users are more predictable, and their variance easily explainable \n",
    "* 'casual' users also have high correlation with 'cnt'"
   ]
  },
  {
   "cell_type": "markdown",
   "id": "06b1806c",
   "metadata": {},
   "source": [
    "# Preprocessing"
   ]
  },
  {
   "cell_type": "markdown",
   "id": "8d6b540d",
   "metadata": {},
   "source": [
    "#### Preparing Dummies"
   ]
  },
  {
   "cell_type": "code",
   "execution_count": 22,
   "id": "808c4142",
   "metadata": {},
   "outputs": [
    {
     "data": {
      "text/html": [
       "<div>\n",
       "<style scoped>\n",
       "    .dataframe tbody tr th:only-of-type {\n",
       "        vertical-align: middle;\n",
       "    }\n",
       "\n",
       "    .dataframe tbody tr th {\n",
       "        vertical-align: top;\n",
       "    }\n",
       "\n",
       "    .dataframe thead th {\n",
       "        text-align: right;\n",
       "    }\n",
       "</style>\n",
       "<table border=\"1\" class=\"dataframe\">\n",
       "  <thead>\n",
       "    <tr style=\"text-align: right;\">\n",
       "      <th></th>\n",
       "      <th>season</th>\n",
       "      <th>yr</th>\n",
       "      <th>mnth</th>\n",
       "      <th>holiday</th>\n",
       "      <th>weekday</th>\n",
       "      <th>workingday</th>\n",
       "      <th>temp</th>\n",
       "      <th>atemp</th>\n",
       "      <th>hum</th>\n",
       "      <th>windspeed</th>\n",
       "      <th>casual</th>\n",
       "      <th>registered</th>\n",
       "      <th>cnt</th>\n",
       "      <th>weather1</th>\n",
       "      <th>weather2</th>\n",
       "    </tr>\n",
       "  </thead>\n",
       "  <tbody>\n",
       "    <tr>\n",
       "      <th>0</th>\n",
       "      <td>0</td>\n",
       "      <td>0</td>\n",
       "      <td>0</td>\n",
       "      <td>0</td>\n",
       "      <td>1</td>\n",
       "      <td>1</td>\n",
       "      <td>14.110847</td>\n",
       "      <td>18.18125</td>\n",
       "      <td>80.5833</td>\n",
       "      <td>10.749882</td>\n",
       "      <td>331</td>\n",
       "      <td>654</td>\n",
       "      <td>985</td>\n",
       "      <td>1</td>\n",
       "      <td>0</td>\n",
       "    </tr>\n",
       "    <tr>\n",
       "      <th>1</th>\n",
       "      <td>0</td>\n",
       "      <td>0</td>\n",
       "      <td>0</td>\n",
       "      <td>0</td>\n",
       "      <td>2</td>\n",
       "      <td>1</td>\n",
       "      <td>14.902598</td>\n",
       "      <td>17.68695</td>\n",
       "      <td>69.6087</td>\n",
       "      <td>16.652113</td>\n",
       "      <td>131</td>\n",
       "      <td>670</td>\n",
       "      <td>801</td>\n",
       "      <td>1</td>\n",
       "      <td>0</td>\n",
       "    </tr>\n",
       "    <tr>\n",
       "      <th>2</th>\n",
       "      <td>0</td>\n",
       "      <td>0</td>\n",
       "      <td>0</td>\n",
       "      <td>0</td>\n",
       "      <td>3</td>\n",
       "      <td>1</td>\n",
       "      <td>8.050924</td>\n",
       "      <td>9.47025</td>\n",
       "      <td>43.7273</td>\n",
       "      <td>16.636703</td>\n",
       "      <td>120</td>\n",
       "      <td>1229</td>\n",
       "      <td>1349</td>\n",
       "      <td>0</td>\n",
       "      <td>0</td>\n",
       "    </tr>\n",
       "    <tr>\n",
       "      <th>3</th>\n",
       "      <td>0</td>\n",
       "      <td>0</td>\n",
       "      <td>0</td>\n",
       "      <td>0</td>\n",
       "      <td>4</td>\n",
       "      <td>1</td>\n",
       "      <td>8.200000</td>\n",
       "      <td>10.60610</td>\n",
       "      <td>59.0435</td>\n",
       "      <td>10.739832</td>\n",
       "      <td>108</td>\n",
       "      <td>1454</td>\n",
       "      <td>1562</td>\n",
       "      <td>0</td>\n",
       "      <td>0</td>\n",
       "    </tr>\n",
       "    <tr>\n",
       "      <th>4</th>\n",
       "      <td>0</td>\n",
       "      <td>0</td>\n",
       "      <td>0</td>\n",
       "      <td>0</td>\n",
       "      <td>5</td>\n",
       "      <td>1</td>\n",
       "      <td>9.305237</td>\n",
       "      <td>11.46350</td>\n",
       "      <td>43.6957</td>\n",
       "      <td>12.522300</td>\n",
       "      <td>82</td>\n",
       "      <td>1518</td>\n",
       "      <td>1600</td>\n",
       "      <td>0</td>\n",
       "      <td>0</td>\n",
       "    </tr>\n",
       "  </tbody>\n",
       "</table>\n",
       "</div>"
      ],
      "text/plain": [
       "   season  yr  mnth  holiday  weekday  workingday       temp     atemp  \\\n",
       "0       0   0     0        0        1           1  14.110847  18.18125   \n",
       "1       0   0     0        0        2           1  14.902598  17.68695   \n",
       "2       0   0     0        0        3           1   8.050924   9.47025   \n",
       "3       0   0     0        0        4           1   8.200000  10.60610   \n",
       "4       0   0     0        0        5           1   9.305237  11.46350   \n",
       "\n",
       "       hum  windspeed  casual  registered   cnt  weather1  weather2  \n",
       "0  80.5833  10.749882     331         654   985         1         0  \n",
       "1  69.6087  16.652113     131         670   801         1         0  \n",
       "2  43.7273  16.636703     120        1229  1349         0         0  \n",
       "3  59.0435  10.739832     108        1454  1562         0         0  \n",
       "4  43.6957  12.522300      82        1518  1600         0         0  "
      ]
     },
     "execution_count": 22,
     "metadata": {},
     "output_type": "execute_result"
    }
   ],
   "source": [
    "\n",
    "status = pd.get_dummies(df['weathersit'], drop_first = True).rename(columns = lambda x: 'weather'+str(x))\n",
    "df = pd.concat([df, status], axis = 1)\n",
    "df.drop(['weathersit'], axis = 1, inplace = True)\n",
    "df.head()"
   ]
  },
  {
   "cell_type": "markdown",
   "id": "6a15b085",
   "metadata": {},
   "source": [
    "In the data dictionary we see 'weathersit' is described in 4 levels. But previously we have examined it to have only 3 levels. Most plausible explanation is that the last two levels have been clubbed together, as they indicate extreme weather conditions. Hence the encoding works like this:\n",
    "                   Weather1 weather 2 ||\n",
    "*Clear sky:               0   0\n",
    "*Misty+Cloudy:            1   0\n",
    "*Light snow+Heavy rain:   0   1"
   ]
  },
  {
   "cell_type": "markdown",
   "id": "7392df04",
   "metadata": {},
   "source": [
    "### Correlations"
   ]
  },
  {
   "cell_type": "code",
   "execution_count": 23,
   "id": "e56be904",
   "metadata": {},
   "outputs": [
    {
     "data": {
      "image/png": "[encoded data removed]",
      "text/plain": [
       "<Figure size 1152x864 with 2 Axes>"
      ]
     },
     "metadata": {
      "needs_background": "light"
     },
     "output_type": "display_data"
    }
   ],
   "source": [
    "plt.figure(figsize = (16, 12))\n",
    "sns.heatmap(df.corr(), annot = True, cmap=\"YlGnBu\")\n",
    "plt.show()"
   ]
  },
  {
   "cell_type": "markdown",
   "id": "bcbfcc37",
   "metadata": {},
   "source": [
    "#### Train Test Split"
   ]
  },
  {
   "cell_type": "code",
   "execution_count": 24,
   "id": "784735c1",
   "metadata": {},
   "outputs": [],
   "source": [
    "from sklearn.model_selection import train_test_split\n",
    "\n",
    "\n",
    "np.random.seed(0)\n",
    "df_train, df_test = train_test_split(df, train_size = 0.8, test_size = 0.2, random_state = 100)"
   ]
  },
  {
   "cell_type": "markdown",
   "id": "d90c48c3",
   "metadata": {},
   "source": [
    "#### Scaling the Test set"
   ]
  },
  {
   "cell_type": "code",
   "execution_count": 25,
   "id": "15577d16",
   "metadata": {},
   "outputs": [],
   "source": [
    "from sklearn.preprocessing import MinMaxScaler"
   ]
  },
  {
   "cell_type": "code",
   "execution_count": 26,
   "id": "4465b8a9",
   "metadata": {},
   "outputs": [],
   "source": [
    "scaler = MinMaxScaler()"
   ]
  },
  {
   "cell_type": "code",
   "execution_count": 27,
   "id": "06b071fd",
   "metadata": {},
   "outputs": [],
   "source": [
    "numvars = ['temp','atemp','hum','windspeed','casual','registered','cnt' ]"
   ]
  },
  {
   "cell_type": "code",
   "execution_count": 28,
   "id": "e5c2ad23",
   "metadata": {},
   "outputs": [],
   "source": [
    "df_train[numvars] = scaler.fit_transform(df_train[numvars])"
   ]
  },
  {
   "cell_type": "code",
   "execution_count": 29,
   "id": "bf8cc46a",
   "metadata": {},
   "outputs": [
    {
     "data": {
      "text/html": [
       "<div>\n",
       "<style scoped>\n",
       "    .dataframe tbody tr th:only-of-type {\n",
       "        vertical-align: middle;\n",
       "    }\n",
       "\n",
       "    .dataframe tbody tr th {\n",
       "        vertical-align: top;\n",
       "    }\n",
       "\n",
       "    .dataframe thead th {\n",
       "        text-align: right;\n",
       "    }\n",
       "</style>\n",
       "<table border=\"1\" class=\"dataframe\">\n",
       "  <thead>\n",
       "    <tr style=\"text-align: right;\">\n",
       "      <th></th>\n",
       "      <th>season</th>\n",
       "      <th>yr</th>\n",
       "      <th>mnth</th>\n",
       "      <th>holiday</th>\n",
       "      <th>weekday</th>\n",
       "      <th>workingday</th>\n",
       "      <th>temp</th>\n",
       "      <th>atemp</th>\n",
       "      <th>hum</th>\n",
       "      <th>windspeed</th>\n",
       "      <th>casual</th>\n",
       "      <th>registered</th>\n",
       "      <th>cnt</th>\n",
       "      <th>weather1</th>\n",
       "      <th>weather2</th>\n",
       "    </tr>\n",
       "  </thead>\n",
       "  <tbody>\n",
       "    <tr>\n",
       "      <th>count</th>\n",
       "      <td>584.000000</td>\n",
       "      <td>584.000000</td>\n",
       "      <td>584.000000</td>\n",
       "      <td>584.000000</td>\n",
       "      <td>584.000000</td>\n",
       "      <td>584.000000</td>\n",
       "      <td>584.000000</td>\n",
       "      <td>584.000000</td>\n",
       "      <td>584.000000</td>\n",
       "      <td>584.000000</td>\n",
       "      <td>584.000000</td>\n",
       "      <td>584.000000</td>\n",
       "      <td>584.000000</td>\n",
       "      <td>584.000000</td>\n",
       "      <td>584.000000</td>\n",
       "    </tr>\n",
       "    <tr>\n",
       "      <th>mean</th>\n",
       "      <td>1.500000</td>\n",
       "      <td>0.513699</td>\n",
       "      <td>5.549658</td>\n",
       "      <td>0.027397</td>\n",
       "      <td>2.948630</td>\n",
       "      <td>0.726027</td>\n",
       "      <td>0.537414</td>\n",
       "      <td>0.513175</td>\n",
       "      <td>0.649499</td>\n",
       "      <td>0.319463</td>\n",
       "      <td>0.257519</td>\n",
       "      <td>0.525317</td>\n",
       "      <td>0.515792</td>\n",
       "      <td>0.342466</td>\n",
       "      <td>0.027397</td>\n",
       "    </tr>\n",
       "    <tr>\n",
       "      <th>std</th>\n",
       "      <td>1.120524</td>\n",
       "      <td>0.500241</td>\n",
       "      <td>3.477090</td>\n",
       "      <td>0.163378</td>\n",
       "      <td>1.947184</td>\n",
       "      <td>0.446377</td>\n",
       "      <td>0.225336</td>\n",
       "      <td>0.211663</td>\n",
       "      <td>0.144219</td>\n",
       "      <td>0.168114</td>\n",
       "      <td>0.205577</td>\n",
       "      <td>0.230345</td>\n",
       "      <td>0.225336</td>\n",
       "      <td>0.474941</td>\n",
       "      <td>0.163378</td>\n",
       "    </tr>\n",
       "    <tr>\n",
       "      <th>min</th>\n",
       "      <td>0.000000</td>\n",
       "      <td>0.000000</td>\n",
       "      <td>0.000000</td>\n",
       "      <td>0.000000</td>\n",
       "      <td>0.000000</td>\n",
       "      <td>0.000000</td>\n",
       "      <td>0.000000</td>\n",
       "      <td>0.000000</td>\n",
       "      <td>0.000000</td>\n",
       "      <td>0.000000</td>\n",
       "      <td>0.000000</td>\n",
       "      <td>0.000000</td>\n",
       "      <td>0.000000</td>\n",
       "      <td>0.000000</td>\n",
       "      <td>0.000000</td>\n",
       "    </tr>\n",
       "    <tr>\n",
       "      <th>25%</th>\n",
       "      <td>0.000000</td>\n",
       "      <td>0.000000</td>\n",
       "      <td>2.000000</td>\n",
       "      <td>0.000000</td>\n",
       "      <td>1.000000</td>\n",
       "      <td>0.000000</td>\n",
       "      <td>0.340113</td>\n",
       "      <td>0.331819</td>\n",
       "      <td>0.535852</td>\n",
       "      <td>0.199177</td>\n",
       "      <td>0.096236</td>\n",
       "      <td>0.352512</td>\n",
       "      <td>0.350696</td>\n",
       "      <td>0.000000</td>\n",
       "      <td>0.000000</td>\n",
       "    </tr>\n",
       "    <tr>\n",
       "      <th>50%</th>\n",
       "      <td>2.000000</td>\n",
       "      <td>1.000000</td>\n",
       "      <td>6.000000</td>\n",
       "      <td>0.000000</td>\n",
       "      <td>3.000000</td>\n",
       "      <td>1.000000</td>\n",
       "      <td>0.545191</td>\n",
       "      <td>0.530558</td>\n",
       "      <td>0.653714</td>\n",
       "      <td>0.294764</td>\n",
       "      <td>0.218379</td>\n",
       "      <td>0.524329</td>\n",
       "      <td>0.522837</td>\n",
       "      <td>0.000000</td>\n",
       "      <td>0.000000</td>\n",
       "    </tr>\n",
       "    <tr>\n",
       "      <th>75%</th>\n",
       "      <td>2.250000</td>\n",
       "      <td>1.000000</td>\n",
       "      <td>9.000000</td>\n",
       "      <td>0.000000</td>\n",
       "      <td>5.000000</td>\n",
       "      <td>1.000000</td>\n",
       "      <td>0.736512</td>\n",
       "      <td>0.690521</td>\n",
       "      <td>0.752361</td>\n",
       "      <td>0.410413</td>\n",
       "      <td>0.333968</td>\n",
       "      <td>0.698924</td>\n",
       "      <td>0.691872</td>\n",
       "      <td>1.000000</td>\n",
       "      <td>0.000000</td>\n",
       "    </tr>\n",
       "    <tr>\n",
       "      <th>max</th>\n",
       "      <td>3.000000</td>\n",
       "      <td>1.000000</td>\n",
       "      <td>11.000000</td>\n",
       "      <td>1.000000</td>\n",
       "      <td>6.000000</td>\n",
       "      <td>1.000000</td>\n",
       "      <td>1.000000</td>\n",
       "      <td>1.000000</td>\n",
       "      <td>1.000000</td>\n",
       "      <td>1.000000</td>\n",
       "      <td>1.000000</td>\n",
       "      <td>1.000000</td>\n",
       "      <td>1.000000</td>\n",
       "      <td>1.000000</td>\n",
       "      <td>1.000000</td>\n",
       "    </tr>\n",
       "  </tbody>\n",
       "</table>\n",
       "</div>"
      ],
      "text/plain": [
       "           season          yr        mnth     holiday     weekday  workingday  \\\n",
       "count  584.000000  584.000000  584.000000  584.000000  584.000000  584.000000   \n",
       "mean     1.500000    0.513699    5.549658    0.027397    2.948630    0.726027   \n",
       "std      1.120524    0.500241    3.477090    0.163378    1.947184    0.446377   \n",
       "min      0.000000    0.000000    0.000000    0.000000    0.000000    0.000000   \n",
       "25%      0.000000    0.000000    2.000000    0.000000    1.000000    0.000000   \n",
       "50%      2.000000    1.000000    6.000000    0.000000    3.000000    1.000000   \n",
       "75%      2.250000    1.000000    9.000000    0.000000    5.000000    1.000000   \n",
       "max      3.000000    1.000000   11.000000    1.000000    6.000000    1.000000   \n",
       "\n",
       "             temp       atemp         hum   windspeed      casual  registered  \\\n",
       "count  584.000000  584.000000  584.000000  584.000000  584.000000  584.000000   \n",
       "mean     0.537414    0.513175    0.649499    0.319463    0.257519    0.525317   \n",
       "std      0.225336    0.211663    0.144219    0.168114    0.205577    0.230345   \n",
       "min      0.000000    0.000000    0.000000    0.000000    0.000000    0.000000   \n",
       "25%      0.340113    0.331819    0.535852    0.199177    0.096236    0.352512   \n",
       "50%      0.545191    0.530558    0.653714    0.294764    0.218379    0.524329   \n",
       "75%      0.736512    0.690521    0.752361    0.410413    0.333968    0.698924   \n",
       "max      1.000000    1.000000    1.000000    1.000000    1.000000    1.000000   \n",
       "\n",
       "              cnt    weather1    weather2  \n",
       "count  584.000000  584.000000  584.000000  \n",
       "mean     0.515792    0.342466    0.027397  \n",
       "std      0.225336    0.474941    0.163378  \n",
       "min      0.000000    0.000000    0.000000  \n",
       "25%      0.350696    0.000000    0.000000  \n",
       "50%      0.522837    0.000000    0.000000  \n",
       "75%      0.691872    1.000000    0.000000  \n",
       "max      1.000000    1.000000    1.000000  "
      ]
     },
     "execution_count": 29,
     "metadata": {},
     "output_type": "execute_result"
    }
   ],
   "source": [
    "df_train.describe()"
   ]
  },
  {
   "cell_type": "code",
   "execution_count": 30,
   "id": "7f71cd51",
   "metadata": {},
   "outputs": [],
   "source": [
    "y_train = df_train.pop('cnt')\n",
    "X_train = df_train"
   ]
  },
  {
   "cell_type": "code",
   "execution_count": 31,
   "id": "935244d8",
   "metadata": {},
   "outputs": [],
   "source": [
    "from sklearn.feature_selection import RFE\n",
    "from sklearn.linear_model import LinearRegression"
   ]
  },
  {
   "cell_type": "code",
   "execution_count": 32,
   "id": "5c0c9c3a",
   "metadata": {},
   "outputs": [
    {
     "data": {
      "text/plain": [
       "Index(['season', 'yr', 'mnth', 'holiday', 'weekday', 'workingday', 'temp',\n",
       "       'atemp', 'hum', 'windspeed', 'casual', 'registered', 'weather1',\n",
       "       'weather2'],\n",
       "      dtype='object')"
      ]
     },
     "execution_count": 32,
     "metadata": {},
     "output_type": "execute_result"
    }
   ],
   "source": [
    "X_train.columns"
   ]
  },
  {
   "cell_type": "markdown",
   "id": "e65fb0d9",
   "metadata": {},
   "source": [
    "# Finding RFE support"
   ]
  },
  {
   "cell_type": "code",
   "execution_count": 33,
   "id": "604b5267",
   "metadata": {},
   "outputs": [],
   "source": [
    "lm = LinearRegression()\n",
    "lm.fit(X_train, y_train)\n",
    "\n",
    "rfe = RFE(estimator = LinearRegression(), n_features_to_select = 8)             \n",
    "rfe = rfe.fit(X_train, y_train)"
   ]
  },
  {
   "cell_type": "code",
   "execution_count": 34,
   "id": "e6a73124",
   "metadata": {},
   "outputs": [
    {
     "data": {
      "text/plain": [
       "[('season', False, 4),\n",
       " ('yr', True, 1),\n",
       " ('mnth', False, 7),\n",
       " ('holiday', True, 1),\n",
       " ('weekday', False, 2),\n",
       " ('workingday', False, 6),\n",
       " ('temp', True, 1),\n",
       " ('atemp', True, 1),\n",
       " ('hum', True, 1),\n",
       " ('windspeed', False, 3),\n",
       " ('casual', True, 1),\n",
       " ('registered', True, 1),\n",
       " ('weather1', False, 5),\n",
       " ('weather2', True, 1)]"
      ]
     },
     "execution_count": 34,
     "metadata": {},
     "output_type": "execute_result"
    }
   ],
   "source": [
    "list(zip(X_train.columns,rfe.support_,rfe.ranking_))"
   ]
  },
  {
   "cell_type": "code",
   "execution_count": 35,
   "id": "49f690a0",
   "metadata": {},
   "outputs": [
    {
     "name": "stdout",
     "output_type": "stream",
     "text": [
      "columns with rfe supportIndex(['yr', 'holiday', 'temp', 'atemp', 'hum', 'casual', 'registered',\n",
      "       'weather2'],\n",
      "      dtype='object')\n"
     ]
    }
   ],
   "source": [
    "col = X_train.columns[rfe.support_]\n",
    "col\n",
    "print('columns with rfe support{}'.format(col))"
   ]
  },
  {
   "cell_type": "markdown",
   "id": "d9bd581e",
   "metadata": {},
   "source": [
    "#### Although 'season' and 'mnth' do not have RFE support, the visualizations show a solid relationship with 'cnt'."
   ]
  },
  {
   "cell_type": "code",
   "execution_count": 36,
   "id": "e7013d17",
   "metadata": {},
   "outputs": [
    {
     "data": {
      "text/plain": [
       "Index(['season', 'mnth', 'weekday', 'workingday', 'windspeed', 'weather1'], dtype='object')"
      ]
     },
     "execution_count": 36,
     "metadata": {},
     "output_type": "execute_result"
    }
   ],
   "source": [
    "X_train.columns[~rfe.support_]\n"
   ]
  },
  {
   "cell_type": "code",
   "execution_count": 37,
   "id": "1ea75c09",
   "metadata": {},
   "outputs": [],
   "source": [
    "X_train_rfe = X_train[col]\n",
    "\n"
   ]
  },
  {
   "cell_type": "markdown",
   "id": "d5aeb4cd",
   "metadata": {},
   "source": [
    "# Fitting the data using Statsmodes.api"
   ]
  },
  {
   "cell_type": "markdown",
   "id": "74205a49",
   "metadata": {},
   "source": [
    "#### Backward  Modelling"
   ]
  },
  {
   "cell_type": "code",
   "execution_count": 38,
   "id": "deaeda5d",
   "metadata": {},
   "outputs": [],
   "source": [
    "import statsmodels.api as sm\n",
    "X_train_1 = X_train_rfe\n",
    "X_train_sm = sm.add_constant(X_train_1)\n",
    "\n"
   ]
  },
  {
   "cell_type": "code",
   "execution_count": 39,
   "id": "49e518d9",
   "metadata": {},
   "outputs": [
    {
     "name": "stdout",
     "output_type": "stream",
     "text": [
      "                            OLS Regression Results                            \n",
      "==============================================================================\n",
      "Dep. Variable:                    cnt   R-squared:                       1.000\n",
      "Model:                            OLS   Adj. R-squared:                  1.000\n",
      "Method:                 Least Squares   F-statistic:                 1.617e+31\n",
      "Date:                Wed, 09 Nov 2022   Prob (F-statistic):               0.00\n",
      "Time:                        18:08:35   Log-Likelihood:                 19777.\n",
      "No. Observations:                 584   AIC:                        -3.954e+04\n",
      "Df Residuals:                     575   BIC:                        -3.950e+04\n",
      "Df Model:                           8                                         \n",
      "Covariance Type:            nonrobust                                         \n",
      "==============================================================================\n",
      "                 coef    std err          t      P>|t|      [0.025      0.975]\n",
      "------------------------------------------------------------------------------\n",
      "const       -3.99e-16   1.06e-16     -3.778      0.000   -6.06e-16   -1.92e-16\n",
      "yr         -5.985e-17   5.64e-17     -1.062      0.289   -1.71e-16    5.09e-17\n",
      "holiday    -3.608e-16   1.24e-16     -2.919      0.004   -6.04e-16   -1.18e-16\n",
      "temp        3.331e-16   6.44e-16      0.518      0.605   -9.31e-16     1.6e-15\n",
      "atemp      -5.551e-16   6.95e-16     -0.799      0.425   -1.92e-15    8.09e-16\n",
      "hum         3.192e-16   1.48e-16      2.163      0.031    2.94e-17    6.09e-16\n",
      "casual         0.3775   1.24e-16   3.05e+15      0.000       0.377       0.377\n",
      "registered     0.7968   1.49e-16   5.34e+15      0.000       0.797       0.797\n",
      "weather2    6.245e-16   1.31e-16      4.762      0.000    3.67e-16    8.82e-16\n",
      "==============================================================================\n",
      "Omnibus:                      196.702   Durbin-Watson:                   0.332\n",
      "Prob(Omnibus):                  0.000   Jarque-Bera (JB):             1038.776\n",
      "Skew:                          -1.400   Prob(JB):                    2.71e-226\n",
      "Kurtosis:                       8.903   Cond. No.                         77.9\n",
      "==============================================================================\n",
      "\n",
      "Notes:\n",
      "[1] Standard Errors assume that the covariance matrix of the errors is correctly specified.\n"
     ]
    }
   ],
   "source": [
    "lm = sm.OLS(y_train, X_train_sm).fit()\n",
    "print(lm.summary()) #next checking the VIF"
   ]
  },
  {
   "cell_type": "code",
   "execution_count": 40,
   "id": "71cd3780",
   "metadata": {},
   "outputs": [
    {
     "data": {
      "text/html": [
       "<div>\n",
       "<style scoped>\n",
       "    .dataframe tbody tr th:only-of-type {\n",
       "        vertical-align: middle;\n",
       "    }\n",
       "\n",
       "    .dataframe tbody tr th {\n",
       "        vertical-align: top;\n",
       "    }\n",
       "\n",
       "    .dataframe thead th {\n",
       "        text-align: right;\n",
       "    }\n",
       "</style>\n",
       "<table border=\"1\" class=\"dataframe\">\n",
       "  <thead>\n",
       "    <tr style=\"text-align: right;\">\n",
       "      <th></th>\n",
       "      <th>Features</th>\n",
       "      <th>VIF</th>\n",
       "    </tr>\n",
       "  </thead>\n",
       "  <tbody>\n",
       "    <tr>\n",
       "      <th>3</th>\n",
       "      <td>atemp</td>\n",
       "      <td>378.39</td>\n",
       "    </tr>\n",
       "    <tr>\n",
       "      <th>2</th>\n",
       "      <td>temp</td>\n",
       "      <td>357.69</td>\n",
       "    </tr>\n",
       "    <tr>\n",
       "      <th>6</th>\n",
       "      <td>registered</td>\n",
       "      <td>17.58</td>\n",
       "    </tr>\n",
       "    <tr>\n",
       "      <th>4</th>\n",
       "      <td>hum</td>\n",
       "      <td>7.57</td>\n",
       "    </tr>\n",
       "    <tr>\n",
       "      <th>5</th>\n",
       "      <td>casual</td>\n",
       "      <td>4.21</td>\n",
       "    </tr>\n",
       "    <tr>\n",
       "      <th>0</th>\n",
       "      <td>yr</td>\n",
       "      <td>4.16</td>\n",
       "    </tr>\n",
       "    <tr>\n",
       "      <th>7</th>\n",
       "      <td>weather2</td>\n",
       "      <td>1.20</td>\n",
       "    </tr>\n",
       "    <tr>\n",
       "      <th>1</th>\n",
       "      <td>holiday</td>\n",
       "      <td>1.05</td>\n",
       "    </tr>\n",
       "  </tbody>\n",
       "</table>\n",
       "</div>"
      ],
      "text/plain": [
       "     Features     VIF\n",
       "3       atemp  378.39\n",
       "2        temp  357.69\n",
       "6  registered   17.58\n",
       "4         hum    7.57\n",
       "5      casual    4.21\n",
       "0          yr    4.16\n",
       "7    weather2    1.20\n",
       "1     holiday    1.05"
      ]
     },
     "execution_count": 40,
     "metadata": {},
     "output_type": "execute_result"
    }
   ],
   "source": [
    "from statsmodels.stats.outliers_influence import variance_inflation_factor\n",
    "\n",
    "vif = pd.DataFrame()\n",
    "vif['Features'] = X_train_1.columns\n",
    "vif['VIF'] = [variance_inflation_factor(X_train_1.values, i) for i in range(X_train_1.shape[1])]\n",
    "vif['VIF'] = round(vif['VIF'], 2)\n",
    "vif = vif.sort_values(by = \"VIF\", ascending = False)\n",
    "vif                     # we should definately remove 'atemp' from the model"
   ]
  },
  {
   "cell_type": "code",
   "execution_count": 41,
   "id": "23e4336d",
   "metadata": {},
   "outputs": [],
   "source": [
    "X_train_2 = X_train_1.drop('atemp', axis = 1)\n",
    "X_train_sm1 = sm.add_constant(X_train_2)"
   ]
  },
  {
   "cell_type": "code",
   "execution_count": 42,
   "id": "acbb114c",
   "metadata": {},
   "outputs": [
    {
     "name": "stdout",
     "output_type": "stream",
     "text": [
      "                            OLS Regression Results                            \n",
      "==============================================================================\n",
      "Dep. Variable:                    cnt   R-squared:                       1.000\n",
      "Model:                            OLS   Adj. R-squared:                  1.000\n",
      "Method:                 Least Squares   F-statistic:                 4.602e+30\n",
      "Date:                Wed, 09 Nov 2022   Prob (F-statistic):               0.00\n",
      "Time:                        18:08:35   Log-Likelihood:                 19371.\n",
      "No. Observations:                 584   AIC:                        -3.873e+04\n",
      "Df Residuals:                     576   BIC:                        -3.869e+04\n",
      "Df Model:                           7                                         \n",
      "Covariance Type:            nonrobust                                         \n",
      "==============================================================================\n",
      "                 coef    std err          t      P>|t|      [0.025      0.975]\n",
      "------------------------------------------------------------------------------\n",
      "const       4.441e-16   2.11e-16      2.101      0.036     2.9e-17    8.59e-16\n",
      "yr          3.652e-16   1.12e-16      3.254      0.001    1.45e-16    5.86e-16\n",
      "holiday      -3.4e-16   2.48e-16     -1.373      0.170   -8.26e-16    1.46e-16\n",
      "temp        1.804e-16   2.77e-16      0.652      0.515   -3.63e-16    7.24e-16\n",
      "hum         2.082e-16   2.92e-16      0.712      0.477   -3.66e-16    7.82e-16\n",
      "casual         0.3775   2.47e-16   1.53e+15      0.000       0.377       0.377\n",
      "registered     0.7968   2.96e-16   2.69e+15      0.000       0.797       0.797\n",
      "weather2     2.22e-16   2.62e-16      0.846      0.398   -2.93e-16    7.37e-16\n",
      "==============================================================================\n",
      "Omnibus:                      128.457   Durbin-Watson:                   0.110\n",
      "Prob(Omnibus):                  0.000   Jarque-Bera (JB):               27.554\n",
      "Skew:                           0.166   Prob(JB):                     1.04e-06\n",
      "Kurtosis:                       1.989   Cond. No.                         15.8\n",
      "==============================================================================\n",
      "\n",
      "Notes:\n",
      "[1] Standard Errors assume that the covariance matrix of the errors is correctly specified.\n"
     ]
    }
   ],
   "source": [
    "lm1 = sm.OLS(y_train, X_train_sm1).fit()\n",
    "print(lm1.summary())"
   ]
  },
  {
   "cell_type": "code",
   "execution_count": 43,
   "id": "56de9f02",
   "metadata": {},
   "outputs": [
    {
     "data": {
      "text/html": [
       "<div>\n",
       "<style scoped>\n",
       "    .dataframe tbody tr th:only-of-type {\n",
       "        vertical-align: middle;\n",
       "    }\n",
       "\n",
       "    .dataframe tbody tr th {\n",
       "        vertical-align: top;\n",
       "    }\n",
       "\n",
       "    .dataframe thead th {\n",
       "        text-align: right;\n",
       "    }\n",
       "</style>\n",
       "<table border=\"1\" class=\"dataframe\">\n",
       "  <thead>\n",
       "    <tr style=\"text-align: right;\">\n",
       "      <th></th>\n",
       "      <th>Features</th>\n",
       "      <th>VIF</th>\n",
       "    </tr>\n",
       "  </thead>\n",
       "  <tbody>\n",
       "    <tr>\n",
       "      <th>5</th>\n",
       "      <td>registered</td>\n",
       "      <td>17.28</td>\n",
       "    </tr>\n",
       "    <tr>\n",
       "      <th>2</th>\n",
       "      <td>temp</td>\n",
       "      <td>16.52</td>\n",
       "    </tr>\n",
       "    <tr>\n",
       "      <th>3</th>\n",
       "      <td>hum</td>\n",
       "      <td>7.27</td>\n",
       "    </tr>\n",
       "    <tr>\n",
       "      <th>4</th>\n",
       "      <td>casual</td>\n",
       "      <td>4.20</td>\n",
       "    </tr>\n",
       "    <tr>\n",
       "      <th>0</th>\n",
       "      <td>yr</td>\n",
       "      <td>4.11</td>\n",
       "    </tr>\n",
       "    <tr>\n",
       "      <th>6</th>\n",
       "      <td>weather2</td>\n",
       "      <td>1.19</td>\n",
       "    </tr>\n",
       "    <tr>\n",
       "      <th>1</th>\n",
       "      <td>holiday</td>\n",
       "      <td>1.05</td>\n",
       "    </tr>\n",
       "  </tbody>\n",
       "</table>\n",
       "</div>"
      ],
      "text/plain": [
       "     Features    VIF\n",
       "5  registered  17.28\n",
       "2        temp  16.52\n",
       "3         hum   7.27\n",
       "4      casual   4.20\n",
       "0          yr   4.11\n",
       "6    weather2   1.19\n",
       "1     holiday   1.05"
      ]
     },
     "execution_count": 43,
     "metadata": {},
     "output_type": "execute_result"
    }
   ],
   "source": [
    "vif = pd.DataFrame()\n",
    "vif['Features'] = X_train_2.columns\n",
    "vif['VIF'] = [variance_inflation_factor(X_train_2.values, i) for i in range(X_train_2.shape[1])]\n",
    "vif['VIF'] = round(vif['VIF'], 2)\n",
    "vif = vif.sort_values(by = \"VIF\", ascending = False)\n",
    "vif                             # 'registered' as high collinearity with other variables"
   ]
  },
  {
   "cell_type": "code",
   "execution_count": 44,
   "id": "cafb9d86",
   "metadata": {},
   "outputs": [
    {
     "name": "stdout",
     "output_type": "stream",
     "text": [
      "                            OLS Regression Results                            \n",
      "==============================================================================\n",
      "Dep. Variable:                    cnt   R-squared:                       0.775\n",
      "Model:                            OLS   Adj. R-squared:                  0.773\n",
      "Method:                 Least Squares   F-statistic:                     331.8\n",
      "Date:                Wed, 09 Nov 2022   Prob (F-statistic):          2.26e-183\n",
      "Time:                        18:08:35   Log-Likelihood:                 478.02\n",
      "No. Observations:                 584   AIC:                            -942.0\n",
      "Df Residuals:                     577   BIC:                            -911.5\n",
      "Df Model:                           6                                         \n",
      "Covariance Type:            nonrobust                                         \n",
      "==============================================================================\n",
      "                 coef    std err          t      P>|t|      [0.025      0.975]\n",
      "------------------------------------------------------------------------------\n",
      "const          0.1363      0.023      5.931      0.000       0.091       0.181\n",
      "yr             0.2069      0.009     22.594      0.000       0.189       0.225\n",
      "holiday       -0.1159      0.027     -4.242      0.000      -0.170      -0.062\n",
      "temp           0.4484      0.025     18.116      0.000       0.400       0.497\n",
      "hum           -0.0596      0.033     -1.827      0.068      -0.124       0.004\n",
      "casual         0.3074      0.028     11.161      0.000       0.253       0.362\n",
      "weather2      -0.1842      0.028     -6.494      0.000      -0.240      -0.128\n",
      "==============================================================================\n",
      "Omnibus:                        7.803   Durbin-Watson:                   1.974\n",
      "Prob(Omnibus):                  0.020   Jarque-Bera (JB):                7.793\n",
      "Skew:                          -0.282   Prob(JB):                       0.0203\n",
      "Kurtosis:                       3.056   Cond. No.                         13.0\n",
      "==============================================================================\n",
      "\n",
      "Notes:\n",
      "[1] Standard Errors assume that the covariance matrix of the errors is correctly specified.\n"
     ]
    }
   ],
   "source": [
    "X_train_3 = X_train_2.drop('registered', axis = 1)\n",
    "X_train_sm2 = sm.add_constant(X_train_3)\n",
    "lm2 = sm.OLS(y_train, X_train_sm2).fit()\n",
    "print(lm2.summary())\n",
    "\n",
    "\n",
    "# We will continue to work with lm2.\n",
    "# Even at this early a level 'hum' does not add much to the model"
   ]
  },
  {
   "cell_type": "code",
   "execution_count": 45,
   "id": "54a9edf9",
   "metadata": {},
   "outputs": [
    {
     "data": {
      "text/html": [
       "<div>\n",
       "<style scoped>\n",
       "    .dataframe tbody tr th:only-of-type {\n",
       "        vertical-align: middle;\n",
       "    }\n",
       "\n",
       "    .dataframe tbody tr th {\n",
       "        vertical-align: top;\n",
       "    }\n",
       "\n",
       "    .dataframe thead th {\n",
       "        text-align: right;\n",
       "    }\n",
       "</style>\n",
       "<table border=\"1\" class=\"dataframe\">\n",
       "  <thead>\n",
       "    <tr style=\"text-align: right;\">\n",
       "      <th></th>\n",
       "      <th>Features</th>\n",
       "      <th>VIF</th>\n",
       "    </tr>\n",
       "  </thead>\n",
       "  <tbody>\n",
       "    <tr>\n",
       "      <th>2</th>\n",
       "      <td>temp</td>\n",
       "      <td>10.05</td>\n",
       "    </tr>\n",
       "    <tr>\n",
       "      <th>3</th>\n",
       "      <td>hum</td>\n",
       "      <td>6.88</td>\n",
       "    </tr>\n",
       "    <tr>\n",
       "      <th>4</th>\n",
       "      <td>casual</td>\n",
       "      <td>4.16</td>\n",
       "    </tr>\n",
       "    <tr>\n",
       "      <th>0</th>\n",
       "      <td>yr</td>\n",
       "      <td>2.06</td>\n",
       "    </tr>\n",
       "    <tr>\n",
       "      <th>5</th>\n",
       "      <td>weather2</td>\n",
       "      <td>1.09</td>\n",
       "    </tr>\n",
       "    <tr>\n",
       "      <th>1</th>\n",
       "      <td>holiday</td>\n",
       "      <td>1.03</td>\n",
       "    </tr>\n",
       "  </tbody>\n",
       "</table>\n",
       "</div>"
      ],
      "text/plain": [
       "   Features    VIF\n",
       "2      temp  10.05\n",
       "3       hum   6.88\n",
       "4    casual   4.16\n",
       "0        yr   2.06\n",
       "5  weather2   1.09\n",
       "1   holiday   1.03"
      ]
     },
     "execution_count": 45,
     "metadata": {},
     "output_type": "execute_result"
    }
   ],
   "source": [
    "vif = pd.DataFrame()\n",
    "vif['Features'] = X_train_3.columns\n",
    "vif['VIF'] = [variance_inflation_factor(X_train_3.values, i) for i in range(X_train_3.shape[1])]\n",
    "vif['VIF'] = round(vif['VIF'], 2)\n",
    "vif = vif.sort_values(by = \"VIF\", ascending = False)\n",
    "vif                      # this model does not need the variable 'temp' as well\n",
    "\n",
    "#it seems 'weather2' and 'hum' are good enough predictors for that"
   ]
  },
  {
   "cell_type": "code",
   "execution_count": 46,
   "id": "29890fd0",
   "metadata": {},
   "outputs": [
    {
     "name": "stdout",
     "output_type": "stream",
     "text": [
      "                            OLS Regression Results                            \n",
      "==============================================================================\n",
      "Dep. Variable:                    cnt   R-squared:                       0.647\n",
      "Model:                            OLS   Adj. R-squared:                  0.644\n",
      "Method:                 Least Squares   F-statistic:                     212.3\n",
      "Date:                Wed, 09 Nov 2022   Prob (F-statistic):          2.71e-128\n",
      "Time:                        18:08:36   Log-Likelihood:                 346.53\n",
      "No. Observations:                 584   AIC:                            -681.1\n",
      "Df Residuals:                     578   BIC:                            -654.8\n",
      "Df Model:                           5                                         \n",
      "Covariance Type:            nonrobust                                         \n",
      "==============================================================================\n",
      "                 coef    std err          t      P>|t|      [0.025      0.975]\n",
      "------------------------------------------------------------------------------\n",
      "const          0.2260      0.028      8.048      0.000       0.171       0.281\n",
      "yr             0.1992      0.011     17.400      0.000       0.177       0.222\n",
      "holiday       -0.1505      0.034     -4.413      0.000      -0.217      -0.083\n",
      "hum            0.0661      0.040      1.657      0.098      -0.012       0.145\n",
      "casual         0.5967      0.028     21.246      0.000       0.542       0.652\n",
      "weather2      -0.1842      0.035     -5.188      0.000      -0.254      -0.114\n",
      "==============================================================================\n",
      "Omnibus:                       33.199   Durbin-Watson:                   1.915\n",
      "Prob(Omnibus):                  0.000   Jarque-Bera (JB):               16.963\n",
      "Skew:                          -0.232   Prob(JB):                     0.000207\n",
      "Kurtosis:                       2.305   Cond. No.                         11.9\n",
      "==============================================================================\n",
      "\n",
      "Notes:\n",
      "[1] Standard Errors assume that the covariance matrix of the errors is correctly specified.\n"
     ]
    }
   ],
   "source": [
    "X_train_4 = X_train_3.drop('temp', axis = 1)\n",
    "X_train_sm3 = sm.add_constant(X_train_4)\n",
    "lm3 = sm.OLS(y_train, X_train_sm3).fit()\n",
    "print(lm3.summary())\n",
    "\n"
   ]
  },
  {
   "cell_type": "code",
   "execution_count": 47,
   "id": "f97a6be1",
   "metadata": {},
   "outputs": [
    {
     "data": {
      "text/html": [
       "<div>\n",
       "<style scoped>\n",
       "    .dataframe tbody tr th:only-of-type {\n",
       "        vertical-align: middle;\n",
       "    }\n",
       "\n",
       "    .dataframe tbody tr th {\n",
       "        vertical-align: top;\n",
       "    }\n",
       "\n",
       "    .dataframe thead th {\n",
       "        text-align: right;\n",
       "    }\n",
       "</style>\n",
       "<table border=\"1\" class=\"dataframe\">\n",
       "  <thead>\n",
       "    <tr style=\"text-align: right;\">\n",
       "      <th></th>\n",
       "      <th>Features</th>\n",
       "      <th>VIF</th>\n",
       "    </tr>\n",
       "  </thead>\n",
       "  <tbody>\n",
       "    <tr>\n",
       "      <th>2</th>\n",
       "      <td>hum</td>\n",
       "      <td>2.98</td>\n",
       "    </tr>\n",
       "    <tr>\n",
       "      <th>3</th>\n",
       "      <td>casual</td>\n",
       "      <td>2.64</td>\n",
       "    </tr>\n",
       "    <tr>\n",
       "      <th>0</th>\n",
       "      <td>yr</td>\n",
       "      <td>2.06</td>\n",
       "    </tr>\n",
       "    <tr>\n",
       "      <th>4</th>\n",
       "      <td>weather2</td>\n",
       "      <td>1.09</td>\n",
       "    </tr>\n",
       "    <tr>\n",
       "      <th>1</th>\n",
       "      <td>holiday</td>\n",
       "      <td>1.03</td>\n",
       "    </tr>\n",
       "  </tbody>\n",
       "</table>\n",
       "</div>"
      ],
      "text/plain": [
       "   Features   VIF\n",
       "2       hum  2.98\n",
       "3    casual  2.64\n",
       "0        yr  2.06\n",
       "4  weather2  1.09\n",
       "1   holiday  1.03"
      ]
     },
     "execution_count": 47,
     "metadata": {},
     "output_type": "execute_result"
    }
   ],
   "source": [
    "vif = pd.DataFrame()\n",
    "vif['Features'] = X_train_4.columns\n",
    "vif['VIF'] = [variance_inflation_factor(X_train_4.values, i) for i in range(X_train_4.shape[1])]\n",
    "vif['VIF'] = round(vif['VIF'], 2)\n",
    "vif = vif.sort_values(by = \"VIF\", ascending = False)\n",
    "vif                       # although VIF has no variable on alert, 'hum' seems to have very low significance"
   ]
  },
  {
   "cell_type": "code",
   "execution_count": 48,
   "id": "31039401",
   "metadata": {},
   "outputs": [
    {
     "name": "stdout",
     "output_type": "stream",
     "text": [
      "                            OLS Regression Results                            \n",
      "==============================================================================\n",
      "Dep. Variable:                    cnt   R-squared:                       0.646\n",
      "Model:                            OLS   Adj. R-squared:                  0.643\n",
      "Method:                 Least Squares   F-statistic:                     263.9\n",
      "Date:                Wed, 09 Nov 2022   Prob (F-statistic):          6.14e-129\n",
      "Time:                        18:08:36   Log-Likelihood:                 345.15\n",
      "No. Observations:                 584   AIC:                            -680.3\n",
      "Df Residuals:                     579   BIC:                            -658.4\n",
      "Df Model:                           4                                         \n",
      "Covariance Type:            nonrobust                                         \n",
      "==============================================================================\n",
      "                 coef    std err          t      P>|t|      [0.025      0.975]\n",
      "------------------------------------------------------------------------------\n",
      "const          0.2694      0.010     26.486      0.000       0.249       0.289\n",
      "yr             0.1976      0.011     17.297      0.000       0.175       0.220\n",
      "holiday       -0.1524      0.034     -4.466      0.000      -0.219      -0.085\n",
      "casual         0.5968      0.028     21.220      0.000       0.542       0.652\n",
      "weather2      -0.1704      0.035     -4.930      0.000      -0.238      -0.103\n",
      "==============================================================================\n",
      "Omnibus:                       38.851   Durbin-Watson:                   1.916\n",
      "Prob(Omnibus):                  0.000   Jarque-Bera (JB):               18.165\n",
      "Skew:                          -0.227   Prob(JB):                     0.000114\n",
      "Kurtosis:                       2.265   Cond. No.                         7.56\n",
      "==============================================================================\n",
      "\n",
      "Notes:\n",
      "[1] Standard Errors assume that the covariance matrix of the errors is correctly specified.\n"
     ]
    }
   ],
   "source": [
    "X_train_5 = X_train_4.drop('hum', axis = 1)\n",
    "X_train_sm4 = sm.add_constant(X_train_5)\n",
    "lm4 = sm.OLS(y_train, X_train_sm4).fit()\n",
    "print(lm4.summary())"
   ]
  },
  {
   "cell_type": "code",
   "execution_count": 49,
   "id": "fe7dc174",
   "metadata": {},
   "outputs": [
    {
     "data": {
      "text/html": [
       "<div>\n",
       "<style scoped>\n",
       "    .dataframe tbody tr th:only-of-type {\n",
       "        vertical-align: middle;\n",
       "    }\n",
       "\n",
       "    .dataframe tbody tr th {\n",
       "        vertical-align: top;\n",
       "    }\n",
       "\n",
       "    .dataframe thead th {\n",
       "        text-align: right;\n",
       "    }\n",
       "</style>\n",
       "<table border=\"1\" class=\"dataframe\">\n",
       "  <thead>\n",
       "    <tr style=\"text-align: right;\">\n",
       "      <th></th>\n",
       "      <th>Features</th>\n",
       "      <th>VIF</th>\n",
       "    </tr>\n",
       "  </thead>\n",
       "  <tbody>\n",
       "    <tr>\n",
       "      <th>0</th>\n",
       "      <td>const</td>\n",
       "      <td>3.34</td>\n",
       "    </tr>\n",
       "    <tr>\n",
       "      <th>3</th>\n",
       "      <td>casual</td>\n",
       "      <td>1.08</td>\n",
       "    </tr>\n",
       "    <tr>\n",
       "      <th>1</th>\n",
       "      <td>yr</td>\n",
       "      <td>1.05</td>\n",
       "    </tr>\n",
       "    <tr>\n",
       "      <th>4</th>\n",
       "      <td>weather2</td>\n",
       "      <td>1.03</td>\n",
       "    </tr>\n",
       "    <tr>\n",
       "      <th>2</th>\n",
       "      <td>holiday</td>\n",
       "      <td>1.00</td>\n",
       "    </tr>\n",
       "  </tbody>\n",
       "</table>\n",
       "</div>"
      ],
      "text/plain": [
       "   Features   VIF\n",
       "0     const  3.34\n",
       "3    casual  1.08\n",
       "1        yr  1.05\n",
       "4  weather2  1.03\n",
       "2   holiday  1.00"
      ]
     },
     "execution_count": 49,
     "metadata": {},
     "output_type": "execute_result"
    }
   ],
   "source": [
    "\n",
    "\n",
    "vif = pd.DataFrame()\n",
    "vif['Features'] = X_train_sm4.columns\n",
    "vif['VIF'] = [variance_inflation_factor(X_train_sm4.values, i) for i in range(X_train_sm4.shape[1])]\n",
    "vif['VIF'] = round(vif['VIF'], 2)\n",
    "vif = vif.sort_values(by = \"VIF\", ascending = False)\n",
    "vif\n",
    "\n",
    "# now this model is stable, but it has a low accuracy\n",
    "# I want to check whether an intercept is necessary in this model, the VIF of the constant is infact low\n",
    "# If we follow the most conservative cutoff we should train the model without it aswell"
   ]
  },
  {
   "cell_type": "code",
   "execution_count": 50,
   "id": "ef9443f6",
   "metadata": {},
   "outputs": [
    {
     "name": "stdout",
     "output_type": "stream",
     "text": [
      "                                 OLS Regression Results                                \n",
      "=======================================================================================\n",
      "Dep. Variable:                    cnt   R-squared (uncentered):                   0.875\n",
      "Model:                            OLS   Adj. R-squared (uncentered):              0.874\n",
      "Method:                 Least Squares   F-statistic:                              1012.\n",
      "Date:                Wed, 09 Nov 2022   Prob (F-statistic):                   7.63e-260\n",
      "Time:                        18:08:36   Log-Likelihood:                          113.39\n",
      "No. Observations:                 584   AIC:                                     -218.8\n",
      "Df Residuals:                     580   BIC:                                     -201.3\n",
      "Df Model:                           4                                                  \n",
      "Covariance Type:            nonrobust                                                  \n",
      "==============================================================================\n",
      "                 coef    std err          t      P>|t|      [0.025      0.975]\n",
      "------------------------------------------------------------------------------\n",
      "yr             0.3255      0.015     21.153      0.000       0.295       0.356\n",
      "holiday       -0.0715      0.051     -1.415      0.158      -0.171       0.028\n",
      "casual         1.0453      0.033     31.322      0.000       0.980       1.111\n",
      "weather2       0.0228      0.050      0.454      0.650      -0.076       0.121\n",
      "==============================================================================\n",
      "Omnibus:                       52.828   Durbin-Watson:                   1.630\n",
      "Prob(Omnibus):                  0.000   Jarque-Bera (JB):               65.098\n",
      "Skew:                          -0.808   Prob(JB):                     7.31e-15\n",
      "Kurtosis:                       3.255   Cond. No.                         4.61\n",
      "==============================================================================\n",
      "\n",
      "Notes:\n",
      "[1] R² is computed without centering (uncentered) since the model does not contain a constant.\n",
      "[2] Standard Errors assume that the covariance matrix of the errors is correctly specified.\n"
     ]
    }
   ],
   "source": [
    "lm41 = sm.OLS(y_train, X_train_5).fit()\n",
    "print(lm41.summary())\n",
    "\n",
    "# my conclusion is that the model has no significance for the intercept. \n",
    "# but the 'p-values' are not satisfactory.\n",
    "# so I will check the VIF again"
   ]
  },
  {
   "cell_type": "code",
   "execution_count": 51,
   "id": "0d5b7a5b",
   "metadata": {},
   "outputs": [
    {
     "data": {
      "text/html": [
       "<div>\n",
       "<style scoped>\n",
       "    .dataframe tbody tr th:only-of-type {\n",
       "        vertical-align: middle;\n",
       "    }\n",
       "\n",
       "    .dataframe tbody tr th {\n",
       "        vertical-align: top;\n",
       "    }\n",
       "\n",
       "    .dataframe thead th {\n",
       "        text-align: right;\n",
       "    }\n",
       "</style>\n",
       "<table border=\"1\" class=\"dataframe\">\n",
       "  <thead>\n",
       "    <tr style=\"text-align: right;\">\n",
       "      <th></th>\n",
       "      <th>Features</th>\n",
       "      <th>VIF</th>\n",
       "    </tr>\n",
       "  </thead>\n",
       "  <tbody>\n",
       "    <tr>\n",
       "      <th>0</th>\n",
       "      <td>yr</td>\n",
       "      <td>1.78</td>\n",
       "    </tr>\n",
       "    <tr>\n",
       "      <th>2</th>\n",
       "      <td>casual</td>\n",
       "      <td>1.77</td>\n",
       "    </tr>\n",
       "    <tr>\n",
       "      <th>1</th>\n",
       "      <td>holiday</td>\n",
       "      <td>1.02</td>\n",
       "    </tr>\n",
       "    <tr>\n",
       "      <th>3</th>\n",
       "      <td>weather2</td>\n",
       "      <td>1.01</td>\n",
       "    </tr>\n",
       "  </tbody>\n",
       "</table>\n",
       "</div>"
      ],
      "text/plain": [
       "   Features   VIF\n",
       "0        yr  1.78\n",
       "2    casual  1.77\n",
       "1   holiday  1.02\n",
       "3  weather2  1.01"
      ]
     },
     "execution_count": 51,
     "metadata": {},
     "output_type": "execute_result"
    }
   ],
   "source": [
    "vif = pd.DataFrame()\n",
    "vif['Features'] = X_train_5.columns\n",
    "vif['VIF'] = [variance_inflation_factor(X_train_5.values, i) for i in range(X_train_5.shape[1])]\n",
    "vif['VIF'] = round(vif['VIF'], 2)\n",
    "vif = vif.sort_values(by = \"VIF\", ascending = False)\n",
    "vif                            # so the intercept was necessary to maintain the stability of lm4\n",
    "# because now the model has two insignificant variables, although VIF is low."
   ]
  },
  {
   "cell_type": "code",
   "execution_count": 52,
   "id": "6009d920",
   "metadata": {},
   "outputs": [
    {
     "data": {
      "text/plain": [
       "Index(['yr', 'holiday', 'casual', 'weather2'], dtype='object')"
      ]
     },
     "execution_count": 52,
     "metadata": {},
     "output_type": "execute_result"
    }
   ],
   "source": [
    "X_train_5.columns"
   ]
  },
  {
   "cell_type": "markdown",
   "id": "92b7f608",
   "metadata": {},
   "source": [
    "#### Some Experimental models"
   ]
  },
  {
   "cell_type": "code",
   "execution_count": 53,
   "id": "8de90d56",
   "metadata": {},
   "outputs": [
    {
     "name": "stdout",
     "output_type": "stream",
     "text": [
      "                            OLS Regression Results                            \n",
      "==============================================================================\n",
      "Dep. Variable:                    cnt   R-squared:                       0.754\n",
      "Model:                            OLS   Adj. R-squared:                  0.753\n",
      "Method:                 Least Squares   F-statistic:                     444.5\n",
      "Date:                Wed, 09 Nov 2022   Prob (F-statistic):          6.81e-175\n",
      "Time:                        18:08:36   Log-Likelihood:                 452.03\n",
      "No. Observations:                 584   AIC:                            -894.1\n",
      "Df Residuals:                     579   BIC:                            -872.2\n",
      "Df Model:                           4                                         \n",
      "Covariance Type:            nonrobust                                         \n",
      "==============================================================================\n",
      "                 coef    std err          t      P>|t|      [0.025      0.975]\n",
      "------------------------------------------------------------------------------\n",
      "const          0.0921      0.013      7.191      0.000       0.067       0.117\n",
      "temp           0.4300      0.025     17.058      0.000       0.381       0.480\n",
      "yr             0.2086      0.010     21.881      0.000       0.190       0.227\n",
      "casual         0.3434      0.028     12.180      0.000       0.288       0.399\n",
      "holiday       -0.1103      0.028     -3.869      0.000      -0.166      -0.054\n",
      "==============================================================================\n",
      "Omnibus:                       24.488   Durbin-Watson:                   1.987\n",
      "Prob(Omnibus):                  0.000   Jarque-Bera (JB):               28.702\n",
      "Skew:                          -0.437   Prob(JB):                     5.85e-07\n",
      "Kurtosis:                       3.646   Cond. No.                         9.64\n",
      "==============================================================================\n",
      "\n",
      "Notes:\n",
      "[1] Standard Errors assume that the covariance matrix of the errors is correctly specified.\n"
     ]
    }
   ],
   "source": [
    "# what if we replace 'weather2' with 'temp'\n",
    "\n",
    "X_train_x = X_train[['temp','yr','casual','holiday']]\n",
    "X_train_smx = sm.add_constant(X_train_x)\n",
    "lmx = sm.OLS(y_train, X_train_smx).fit()\n",
    "print(lmx.summary())"
   ]
  },
  {
   "cell_type": "code",
   "execution_count": 54,
   "id": "3d8bf112",
   "metadata": {},
   "outputs": [
    {
     "data": {
      "text/html": [
       "<div>\n",
       "<style scoped>\n",
       "    .dataframe tbody tr th:only-of-type {\n",
       "        vertical-align: middle;\n",
       "    }\n",
       "\n",
       "    .dataframe tbody tr th {\n",
       "        vertical-align: top;\n",
       "    }\n",
       "\n",
       "    .dataframe thead th {\n",
       "        text-align: right;\n",
       "    }\n",
       "</style>\n",
       "<table border=\"1\" class=\"dataframe\">\n",
       "  <thead>\n",
       "    <tr style=\"text-align: right;\">\n",
       "      <th></th>\n",
       "      <th>Features</th>\n",
       "      <th>VIF</th>\n",
       "    </tr>\n",
       "  </thead>\n",
       "  <tbody>\n",
       "    <tr>\n",
       "      <th>0</th>\n",
       "      <td>temp</td>\n",
       "      <td>4.19</td>\n",
       "    </tr>\n",
       "    <tr>\n",
       "      <th>2</th>\n",
       "      <td>casual</td>\n",
       "      <td>3.95</td>\n",
       "    </tr>\n",
       "    <tr>\n",
       "      <th>1</th>\n",
       "      <td>yr</td>\n",
       "      <td>1.94</td>\n",
       "    </tr>\n",
       "    <tr>\n",
       "      <th>3</th>\n",
       "      <td>holiday</td>\n",
       "      <td>1.02</td>\n",
       "    </tr>\n",
       "  </tbody>\n",
       "</table>\n",
       "</div>"
      ],
      "text/plain": [
       "  Features   VIF\n",
       "0     temp  4.19\n",
       "2   casual  3.95\n",
       "1       yr  1.94\n",
       "3  holiday  1.02"
      ]
     },
     "execution_count": 54,
     "metadata": {},
     "output_type": "execute_result"
    }
   ],
   "source": [
    "# the model seems to perform better\n",
    "# now I will check the VIF\n",
    "\n",
    "vif = pd.DataFrame()\n",
    "vif['Features'] = X_train_x.columns\n",
    "vif['VIF'] = [variance_inflation_factor(X_train_x.values, i) for i in range(X_train_x.shape[1])]\n",
    "vif['VIF'] = round(vif['VIF'], 2)\n",
    "vif = vif.sort_values(by = \"VIF\", ascending = False)\n",
    "vif                          # There are no VIF>5"
   ]
  },
  {
   "cell_type": "code",
   "execution_count": 55,
   "id": "7dc3d440",
   "metadata": {},
   "outputs": [
    {
     "data": {
      "text/plain": [
       "Index(['season', 'yr', 'mnth', 'holiday', 'weekday', 'workingday', 'temp',\n",
       "       'atemp', 'hum', 'windspeed', 'casual', 'registered', 'weather1',\n",
       "       'weather2'],\n",
       "      dtype='object')"
      ]
     },
     "execution_count": 55,
     "metadata": {},
     "output_type": "execute_result"
    }
   ],
   "source": [
    "X_train.columns\n",
    "\n",
    "# The seasonality of weather is being captured by 'temp', we saw it's seasonality coincided with 'cnt'\n",
    "# 'casual' showed high collinearity with the target variable in the plots\n",
    "# this business successfully captures that business improves in second 'yr'\n",
    "# in the plots we saw 'holiday' affecting the target\n",
    "# we saw whether it is a 'workingday' or not does not affect the 'cnt'\n",
    "# I will try adding 'mnth' which shows the same pattern as 'season', but has more information"
   ]
  },
  {
   "cell_type": "code",
   "execution_count": 56,
   "id": "4eb618de",
   "metadata": {},
   "outputs": [
    {
     "name": "stdout",
     "output_type": "stream",
     "text": [
      "                            OLS Regression Results                            \n",
      "==============================================================================\n",
      "Dep. Variable:                    cnt   R-squared:                       0.779\n",
      "Model:                            OLS   Adj. R-squared:                  0.777\n",
      "Method:                 Least Squares   F-statistic:                     407.2\n",
      "Date:                Wed, 09 Nov 2022   Prob (F-statistic):          1.01e-186\n",
      "Time:                        18:08:36   Log-Likelihood:                 482.74\n",
      "No. Observations:                 584   AIC:                            -953.5\n",
      "Df Residuals:                     578   BIC:                            -927.3\n",
      "Df Model:                           5                                         \n",
      "Covariance Type:            nonrobust                                         \n",
      "==============================================================================\n",
      "                 coef    std err          t      P>|t|      [0.025      0.975]\n",
      "------------------------------------------------------------------------------\n",
      "const          0.0543      0.013      4.166      0.000       0.029       0.080\n",
      "temp           0.3919      0.024     16.055      0.000       0.344       0.440\n",
      "casual         0.3429      0.027     12.807      0.000       0.290       0.395\n",
      "yr             0.2099      0.009     23.182      0.000       0.192       0.228\n",
      "holiday       -0.1198      0.027     -4.424      0.000      -0.173      -0.067\n",
      "mnth           0.0105      0.001      8.007      0.000       0.008       0.013\n",
      "==============================================================================\n",
      "Omnibus:                       93.080   Durbin-Watson:                   1.993\n",
      "Prob(Omnibus):                  0.000   Jarque-Bera (JB):              169.096\n",
      "Skew:                          -0.942   Prob(JB):                     1.91e-37\n",
      "Kurtosis:                       4.844   Cond. No.                         49.4\n",
      "==============================================================================\n",
      "\n",
      "Notes:\n",
      "[1] Standard Errors assume that the covariance matrix of the errors is correctly specified.\n"
     ]
    }
   ],
   "source": [
    "X_train_y = X_train[['temp','casual','yr','holiday','mnth']]\n",
    "X_train_smy = sm.add_constant(X_train_y)\n",
    "lmy = sm.OLS(y_train, X_train_smy).fit()\n",
    "print(lmy.summary()) #lmy has no insignificant variable. \n",
    "\n",
    "# again checking Variation Inflation Factor"
   ]
  },
  {
   "cell_type": "code",
   "execution_count": 57,
   "id": "1f762df6",
   "metadata": {},
   "outputs": [
    {
     "data": {
      "text/html": [
       "<div>\n",
       "<style scoped>\n",
       "    .dataframe tbody tr th:only-of-type {\n",
       "        vertical-align: middle;\n",
       "    }\n",
       "\n",
       "    .dataframe tbody tr th {\n",
       "        vertical-align: top;\n",
       "    }\n",
       "\n",
       "    .dataframe thead th {\n",
       "        text-align: right;\n",
       "    }\n",
       "</style>\n",
       "<table border=\"1\" class=\"dataframe\">\n",
       "  <thead>\n",
       "    <tr style=\"text-align: right;\">\n",
       "      <th></th>\n",
       "      <th>Features</th>\n",
       "      <th>VIF</th>\n",
       "    </tr>\n",
       "  </thead>\n",
       "  <tbody>\n",
       "    <tr>\n",
       "      <th>0</th>\n",
       "      <td>temp</td>\n",
       "      <td>6.33</td>\n",
       "    </tr>\n",
       "    <tr>\n",
       "      <th>1</th>\n",
       "      <td>casual</td>\n",
       "      <td>3.96</td>\n",
       "    </tr>\n",
       "    <tr>\n",
       "      <th>4</th>\n",
       "      <td>mnth</td>\n",
       "      <td>3.27</td>\n",
       "    </tr>\n",
       "    <tr>\n",
       "      <th>2</th>\n",
       "      <td>yr</td>\n",
       "      <td>1.96</td>\n",
       "    </tr>\n",
       "    <tr>\n",
       "      <th>3</th>\n",
       "      <td>holiday</td>\n",
       "      <td>1.03</td>\n",
       "    </tr>\n",
       "  </tbody>\n",
       "</table>\n",
       "</div>"
      ],
      "text/plain": [
       "  Features   VIF\n",
       "0     temp  6.33\n",
       "1   casual  3.96\n",
       "4     mnth  3.27\n",
       "2       yr  1.96\n",
       "3  holiday  1.03"
      ]
     },
     "execution_count": 57,
     "metadata": {},
     "output_type": "execute_result"
    }
   ],
   "source": [
    "vif = pd.DataFrame()\n",
    "vif['Features'] = X_train_y.columns\n",
    "vif['VIF'] = [variance_inflation_factor(X_train_y.values, i) for i in range(X_train_y.shape[1])]\n",
    "vif['VIF'] = round(vif['VIF'], 2)\n",
    "vif = vif.sort_values(by = \"VIF\", ascending = False)\n",
    "vif    # let's try the model without 'temp' now"
   ]
  },
  {
   "cell_type": "code",
   "execution_count": 58,
   "id": "57f1ce32",
   "metadata": {},
   "outputs": [
    {
     "name": "stdout",
     "output_type": "stream",
     "text": [
      "                            OLS Regression Results                            \n",
      "==============================================================================\n",
      "Dep. Variable:                    cnt   R-squared:                       0.680\n",
      "Model:                            OLS   Adj. R-squared:                  0.678\n",
      "Method:                 Least Squares   F-statistic:                     308.0\n",
      "Date:                Wed, 09 Nov 2022   Prob (F-statistic):          8.48e-142\n",
      "Time:                        18:08:36   Log-Likelihood:                 375.06\n",
      "No. Observations:                 584   AIC:                            -740.1\n",
      "Df Residuals:                     579   BIC:                            -718.3\n",
      "Df Model:                           4                                         \n",
      "Covariance Type:            nonrobust                                         \n",
      "==============================================================================\n",
      "                 coef    std err          t      P>|t|      [0.025      0.975]\n",
      "------------------------------------------------------------------------------\n",
      "const          0.1857      0.012     15.211      0.000       0.162       0.210\n",
      "casual         0.5834      0.027     21.881      0.000       0.531       0.636\n",
      "yr             0.2014      0.011     18.542      0.000       0.180       0.223\n",
      "holiday       -0.1564      0.032     -4.823      0.000      -0.220      -0.093\n",
      "mnth           0.0145      0.002      9.455      0.000       0.012       0.018\n",
      "==============================================================================\n",
      "Omnibus:                       38.030   Durbin-Watson:                   1.928\n",
      "Prob(Omnibus):                  0.000   Jarque-Bera (JB):               45.188\n",
      "Skew:                          -0.601   Prob(JB):                     1.54e-10\n",
      "Kurtosis:                       3.642   Cond. No.                         40.6\n",
      "==============================================================================\n",
      "\n",
      "Notes:\n",
      "[1] Standard Errors assume that the covariance matrix of the errors is correctly specified.\n"
     ]
    }
   ],
   "source": [
    "X_train_z = X_train_y.drop('temp', axis = 1)\n",
    "X_train_smz = sm.add_constant(X_train_z)\n",
    "lmz = sm.OLS(y_train, X_train_smz).fit()\n",
    "print(lmz.summary())             "
   ]
  },
  {
   "cell_type": "code",
   "execution_count": 59,
   "id": "549748a7",
   "metadata": {},
   "outputs": [
    {
     "data": {
      "text/html": [
       "<div>\n",
       "<style scoped>\n",
       "    .dataframe tbody tr th:only-of-type {\n",
       "        vertical-align: middle;\n",
       "    }\n",
       "\n",
       "    .dataframe tbody tr th {\n",
       "        vertical-align: top;\n",
       "    }\n",
       "\n",
       "    .dataframe thead th {\n",
       "        text-align: right;\n",
       "    }\n",
       "</style>\n",
       "<table border=\"1\" class=\"dataframe\">\n",
       "  <thead>\n",
       "    <tr style=\"text-align: right;\">\n",
       "      <th></th>\n",
       "      <th>Features</th>\n",
       "      <th>VIF</th>\n",
       "    </tr>\n",
       "  </thead>\n",
       "  <tbody>\n",
       "    <tr>\n",
       "      <th>0</th>\n",
       "      <td>casual</td>\n",
       "      <td>2.39</td>\n",
       "    </tr>\n",
       "    <tr>\n",
       "      <th>3</th>\n",
       "      <td>mnth</td>\n",
       "      <td>2.17</td>\n",
       "    </tr>\n",
       "    <tr>\n",
       "      <th>1</th>\n",
       "      <td>yr</td>\n",
       "      <td>1.90</td>\n",
       "    </tr>\n",
       "    <tr>\n",
       "      <th>2</th>\n",
       "      <td>holiday</td>\n",
       "      <td>1.03</td>\n",
       "    </tr>\n",
       "  </tbody>\n",
       "</table>\n",
       "</div>"
      ],
      "text/plain": [
       "  Features   VIF\n",
       "0   casual  2.39\n",
       "3     mnth  2.17\n",
       "1       yr  1.90\n",
       "2  holiday  1.03"
      ]
     },
     "execution_count": 59,
     "metadata": {},
     "output_type": "execute_result"
    }
   ],
   "source": [
    "vif = pd.DataFrame()\n",
    "vif['Features'] = X_train_z.columns\n",
    "vif['VIF'] = [variance_inflation_factor(X_train_z.values, i) for i in range(X_train_z.shape[1])]\n",
    "vif['VIF'] = round(vif['VIF'], 2)\n",
    "vif = vif.sort_values(by = \"VIF\", ascending = False)\n",
    "vif                                  # lmz is stable, but it loses out on accuracy"
   ]
  },
  {
   "cell_type": "markdown",
   "id": "9d3df78e",
   "metadata": {},
   "source": [
    "##### I conclude that lm4, lmx, lmy, and lmz are all stable models.\n",
    "\n",
    "now let's do the:"
   ]
  },
  {
   "cell_type": "markdown",
   "id": "f9f78b0c",
   "metadata": {},
   "source": [
    "## Residual Analysis & Quantile2Quantile Plots"
   ]
  },
  {
   "cell_type": "code",
   "execution_count": 60,
   "id": "7feb582d",
   "metadata": {},
   "outputs": [
    {
     "data": {
      "text/plain": [
       "Text(0.5, 0, 'Errors')"
      ]
     },
     "execution_count": 60,
     "metadata": {},
     "output_type": "execute_result"
    },
    {
     "data": {
      "image/png": "[encoded data removed]",
      "text/plain": [
       "<Figure size 432x288 with 1 Axes>"
      ]
     },
     "metadata": {
      "needs_background": "light"
     },
     "output_type": "display_data"
    }
   ],
   "source": [
    "y_train_price_lm4 = lm4.predict(X_train_sm4)\n",
    "fig = plt.figure()\n",
    "sns.distplot((y_train - y_train_price_lm4), bins = 20)\n",
    "fig.suptitle('Error Terms of lm4', fontsize = 20)                  # This does not look good\n",
    "plt.xlabel('Errors', fontsize = 18) "
   ]
  },
  {
   "cell_type": "code",
   "execution_count": 61,
   "id": "d981e20b",
   "metadata": {},
   "outputs": [
    {
     "data": {
      "text/plain": [
       "<function matplotlib.pyplot.show(close=None, block=None)>"
      ]
     },
     "execution_count": 61,
     "metadata": {},
     "output_type": "execute_result"
    },
    {
     "data": {
      "image/png": "[encoded data removed]",
      "text/plain": [
       "<Figure size 432x288 with 1 Axes>"
      ]
     },
     "metadata": {
      "needs_background": "light"
     },
     "output_type": "display_data"
    }
   ],
   "source": [
    "from statsmodels.graphics.gofplots import qqplot\n",
    "import scipy.stats as stats\n",
    "\n",
    "res4 = lm4.resid\n",
    "fig = sm.qqplot(res4, stats.t, fit=True, line='45')\n",
    "fig.suptitle('q-q plot of predicted vs actual quantities of lm4')\n",
    "plt.show"
   ]
  },
  {
   "cell_type": "code",
   "execution_count": 62,
   "id": "8c812c40",
   "metadata": {},
   "outputs": [
    {
     "data": {
      "text/plain": [
       "Text(0.5, 0, 'Errors')"
      ]
     },
     "execution_count": 62,
     "metadata": {},
     "output_type": "execute_result"
    },
    {
     "data": {
      "image/png": "[encoded data removed]",
      "text/plain": [
       "<Figure size 432x288 with 1 Axes>"
      ]
     },
     "metadata": {
      "needs_background": "light"
     },
     "output_type": "display_data"
    }
   ],
   "source": [
    "y_train_price_lmx = lmx.predict(X_train_smx)\n",
    "fig = plt.figure()\n",
    "sns.distplot((y_train - y_train_price_lmx), bins = 20)\n",
    "fig.suptitle('Error Terms of lmx', fontsize = 20)                  # This looks very good\n",
    "plt.xlabel('Errors', fontsize = 18)                                # checking the other two"
   ]
  },
  {
   "cell_type": "code",
   "execution_count": 63,
   "id": "9407a75f",
   "metadata": {},
   "outputs": [
    {
     "data": {
      "text/plain": [
       "<function matplotlib.pyplot.show(close=None, block=None)>"
      ]
     },
     "execution_count": 63,
     "metadata": {},
     "output_type": "execute_result"
    },
    {
     "data": {
      "image/png": "[encoded data removed]",
      "text/plain": [
       "<Figure size 432x288 with 1 Axes>"
      ]
     },
     "metadata": {
      "needs_background": "light"
     },
     "output_type": "display_data"
    }
   ],
   "source": [
    "from statsmodels.graphics.gofplots import qqplot\n",
    "import scipy.stats as stats\n",
    "\n",
    "resx = lmx.resid\n",
    "fig = sm.qqplot(resx, stats.t, fit=True, line='45')\n",
    "fig.suptitle('q-q plot of predicted vs actual quantities of lmx')\n",
    "plt.show"
   ]
  },
  {
   "cell_type": "code",
   "execution_count": 64,
   "id": "412f7e00",
   "metadata": {},
   "outputs": [
    {
     "data": {
      "text/plain": [
       "Text(0.5, 0, 'Errors')"
      ]
     },
     "execution_count": 64,
     "metadata": {},
     "output_type": "execute_result"
    },
    {
     "data": {
      "image/png": "[encoded data removed]",
      "text/plain": [
       "<Figure size 432x288 with 1 Axes>"
      ]
     },
     "metadata": {
      "needs_background": "light"
     },
     "output_type": "display_data"
    }
   ],
   "source": [
    "y_train_price_lmy = lmy.predict(X_train_smy)\n",
    "fig = plt.figure()\n",
    "sns.distplot((y_train - y_train_price_lmy), bins = 20)\n",
    "fig.suptitle('Error Terms of lmy', fontsize = 20)# Error terms are normally distributed but the skew is not right\n",
    "plt.xlabel('Errors', fontsize = 18)\n",
    "\n",
    "#lmy is not bad aswell\n",
    "\n"
   ]
  },
  {
   "cell_type": "code",
   "execution_count": 65,
   "id": "81f34079",
   "metadata": {},
   "outputs": [
    {
     "data": {
      "text/plain": [
       "<function matplotlib.pyplot.show(close=None, block=None)>"
      ]
     },
     "execution_count": 65,
     "metadata": {},
     "output_type": "execute_result"
    },
    {
     "data": {
      "image/png": "[encoded data removed]",
      "text/plain": [
       "<Figure size 432x288 with 1 Axes>"
      ]
     },
     "metadata": {
      "needs_background": "light"
     },
     "output_type": "display_data"
    }
   ],
   "source": [
    "from statsmodels.graphics.gofplots import qqplot\n",
    "import scipy.stats as stats\n",
    "\n",
    "resy = lmy.resid\n",
    "fig = sm.qqplot(resy, stats.t, fit=True, line='45')\n",
    "fig.suptitle('q-q plot of predicted vs actual quantities of lmy')\n",
    "plt.show\n",
    "\n",
    "#but the qqplot deviates far from the 45degree line"
   ]
  },
  {
   "cell_type": "code",
   "execution_count": 66,
   "id": "10d475c8",
   "metadata": {},
   "outputs": [
    {
     "data": {
      "text/plain": [
       "Text(0.5, 0, 'Errors')"
      ]
     },
     "execution_count": 66,
     "metadata": {},
     "output_type": "execute_result"
    },
    {
     "data": {
      "image/png": "[encoded data removed]",
      "text/plain": [
       "<Figure size 432x288 with 1 Axes>"
      ]
     },
     "metadata": {
      "needs_background": "light"
     },
     "output_type": "display_data"
    }
   ],
   "source": [
    "y_train_price_lmy = lmz.predict(sm.add_constant(X_train_z))\n",
    "fig = plt.figure()\n",
    "sns.distplot((y_train - y_train_price_lmy), bins = 20)\n",
    "fig.suptitle('Error Terms of lmz', fontsize = 20)                  # This is not satisfactiry as well \n",
    "plt.xlabel('Errors', fontsize = 18)                                # lmx is the only satisfactory model"
   ]
  },
  {
   "cell_type": "code",
   "execution_count": 67,
   "id": "e3822e6d",
   "metadata": {},
   "outputs": [
    {
     "data": {
      "text/plain": [
       "<function matplotlib.pyplot.show(close=None, block=None)>"
      ]
     },
     "execution_count": 67,
     "metadata": {},
     "output_type": "execute_result"
    },
    {
     "data": {
      "image/png": "[encoded data removed]",
      "text/plain": [
       "<Figure size 432x288 with 1 Axes>"
      ]
     },
     "metadata": {
      "needs_background": "light"
     },
     "output_type": "display_data"
    }
   ],
   "source": [
    "from statsmodels.graphics.gofplots import qqplot\n",
    "import scipy.stats as stats\n",
    "\n",
    "resz = lmz.resid\n",
    "fig = sm.qqplot(resz, stats.t, fit=True, line='45')\n",
    "fig.suptitle('q-q plot of predicted vs actual quantities of lmz')\n",
    "plt.show\n",
    "\n",
    "# qqplot is far off aswell"
   ]
  },
  {
   "cell_type": "markdown",
   "id": "ad7b1b73",
   "metadata": {},
   "source": [
    "#### From the q-q plots and the residual plots it is evident that lmx has the best normality distribution."
   ]
  },
  {
   "cell_type": "markdown",
   "id": "a89d8c6b",
   "metadata": {},
   "source": [
    "# Predictions on Test set"
   ]
  },
  {
   "cell_type": "code",
   "execution_count": 68,
   "id": "f25e9dd8",
   "metadata": {
    "scrolled": true
   },
   "outputs": [],
   "source": [
    "#preprocessing\n",
    "\n",
    "df_test[numvars] = scaler.transform(df_test[numvars])"
   ]
  },
  {
   "cell_type": "markdown",
   "id": "0a3aa5a3",
   "metadata": {},
   "source": [
    "## lmx"
   ]
  },
  {
   "cell_type": "code",
   "execution_count": 69,
   "id": "02c5c5a3",
   "metadata": {},
   "outputs": [
    {
     "data": {
      "text/plain": [
       "Index(['temp', 'yr', 'casual', 'holiday'], dtype='object')"
      ]
     },
     "execution_count": 69,
     "metadata": {},
     "output_type": "execute_result"
    }
   ],
   "source": [
    "col = X_train_x.columns\n",
    "col"
   ]
  },
  {
   "cell_type": "code",
   "execution_count": 70,
   "id": "3921969c",
   "metadata": {},
   "outputs": [],
   "source": [
    "y_test = df_test['cnt']\n",
    "X_test0 = df_test[col]\n",
    "X_test0_sm = sm.add_constant(X_test0)\n",
    "y_pred0 = lmx.predict(X_test0_sm)"
   ]
  },
  {
   "cell_type": "code",
   "execution_count": 71,
   "id": "f3e7b186",
   "metadata": {},
   "outputs": [
    {
     "data": {
      "text/plain": [
       "Text(0, 0.5, 'y_pred')"
      ]
     },
     "execution_count": 71,
     "metadata": {},
     "output_type": "execute_result"
    },
    {
     "data": {
      "image/png": "[encoded data removed]",
      "text/plain": [
       "<Figure size 432x288 with 1 Axes>"
      ]
     },
     "metadata": {
      "needs_background": "light"
     },
     "output_type": "display_data"
    }
   ],
   "source": [
    "fig = plt.figure()\n",
    "plt.scatter(y_test,y_pred0)\n",
    "fig.suptitle('y_test vs y_price of lmx', fontsize=20)              \n",
    "plt.xlabel('y_test', fontsize=18)                          \n",
    "plt.ylabel('y_pred', fontsize=16) "
   ]
  },
  {
   "cell_type": "code",
   "execution_count": 72,
   "id": "aebcb4c0",
   "metadata": {},
   "outputs": [
    {
     "data": {
      "text/plain": [
       "Text(0, 0.5, 'y_pred')"
      ]
     },
     "execution_count": 72,
     "metadata": {},
     "output_type": "execute_result"
    },
    {
     "data": {
      "image/png": "[encoded data removed]",
      "text/plain": [
       "<Figure size 432x288 with 1 Axes>"
      ]
     },
     "metadata": {
      "needs_background": "light"
     },
     "output_type": "display_data"
    }
   ],
   "source": [
    "fig = plt.figure()\n",
    "res_y = y_test-y_pred0\n",
    "plt.scatter(y_pred0,res_y)\n",
    "fig.suptitle('y_pred vs residuals of lmx', fontsize=20)              \n",
    "plt.xlabel('y_test', fontsize=18)                          \n",
    "plt.ylabel('y_pred', fontsize=16) "
   ]
  },
  {
   "cell_type": "markdown",
   "id": "8dec0fd1",
   "metadata": {},
   "source": [
    "### Calculating accuracy"
   ]
  },
  {
   "cell_type": "code",
   "execution_count": 73,
   "id": "896b5b04",
   "metadata": {},
   "outputs": [],
   "source": [
    "import statsmodels.stats.api as sms\n",
    "import statsmodels.formula.api as smf\n",
    "from statsmodels.compat import lzip"
   ]
  },
  {
   "cell_type": "markdown",
   "id": "b20c7ed4",
   "metadata": {},
   "source": [
    "# Calculating the cost function"
   ]
  },
  {
   "cell_type": "code",
   "execution_count": 74,
   "id": "65ceca38",
   "metadata": {},
   "outputs": [],
   "source": [
    "df_copy = df.copy()\n",
    "df_copy[numvars] = scaler.transform(df_copy[numvars])\n",
    "df_copy1 = df_copy[col]"
   ]
  },
  {
   "cell_type": "code",
   "execution_count": 75,
   "id": "6186ac0b",
   "metadata": {},
   "outputs": [
    {
     "data": {
      "text/plain": [
       "Index(['temp', 'yr', 'casual', 'holiday'], dtype='object')"
      ]
     },
     "execution_count": 75,
     "metadata": {},
     "output_type": "execute_result"
    }
   ],
   "source": [
    "col"
   ]
  },
  {
   "cell_type": "code",
   "execution_count": 76,
   "id": "56af29d1",
   "metadata": {},
   "outputs": [
    {
     "data": {
      "text/html": [
       "<div>\n",
       "<style scoped>\n",
       "    .dataframe tbody tr th:only-of-type {\n",
       "        vertical-align: middle;\n",
       "    }\n",
       "\n",
       "    .dataframe tbody tr th {\n",
       "        vertical-align: top;\n",
       "    }\n",
       "\n",
       "    .dataframe thead th {\n",
       "        text-align: right;\n",
       "    }\n",
       "</style>\n",
       "<table border=\"1\" class=\"dataframe\">\n",
       "  <thead>\n",
       "    <tr style=\"text-align: right;\">\n",
       "      <th></th>\n",
       "      <th>index</th>\n",
       "      <th>temp</th>\n",
       "      <th>yr</th>\n",
       "      <th>casual</th>\n",
       "      <th>holiday</th>\n",
       "      <th>intercept</th>\n",
       "    </tr>\n",
       "  </thead>\n",
       "  <tbody>\n",
       "    <tr>\n",
       "      <th>0</th>\n",
       "      <td>0</td>\n",
       "      <td>0.355170</td>\n",
       "      <td>0</td>\n",
       "      <td>0.100274</td>\n",
       "      <td>0</td>\n",
       "      <td>1</td>\n",
       "    </tr>\n",
       "    <tr>\n",
       "      <th>1</th>\n",
       "      <td>1</td>\n",
       "      <td>0.379232</td>\n",
       "      <td>0</td>\n",
       "      <td>0.039317</td>\n",
       "      <td>0</td>\n",
       "      <td>1</td>\n",
       "    </tr>\n",
       "    <tr>\n",
       "      <th>2</th>\n",
       "      <td>2</td>\n",
       "      <td>0.171000</td>\n",
       "      <td>0</td>\n",
       "      <td>0.035965</td>\n",
       "      <td>0</td>\n",
       "      <td>1</td>\n",
       "    </tr>\n",
       "    <tr>\n",
       "      <th>3</th>\n",
       "      <td>3</td>\n",
       "      <td>0.175530</td>\n",
       "      <td>0</td>\n",
       "      <td>0.032307</td>\n",
       "      <td>0</td>\n",
       "      <td>1</td>\n",
       "    </tr>\n",
       "    <tr>\n",
       "      <th>4</th>\n",
       "      <td>4</td>\n",
       "      <td>0.209120</td>\n",
       "      <td>0</td>\n",
       "      <td>0.024383</td>\n",
       "      <td>0</td>\n",
       "      <td>1</td>\n",
       "    </tr>\n",
       "    <tr>\n",
       "      <th>...</th>\n",
       "      <td>...</td>\n",
       "      <td>...</td>\n",
       "      <td>...</td>\n",
       "      <td>...</td>\n",
       "      <td>...</td>\n",
       "      <td>...</td>\n",
       "    </tr>\n",
       "    <tr>\n",
       "      <th>725</th>\n",
       "      <td>725</td>\n",
       "      <td>0.243025</td>\n",
       "      <td>1</td>\n",
       "      <td>0.074672</td>\n",
       "      <td>0</td>\n",
       "      <td>1</td>\n",
       "    </tr>\n",
       "    <tr>\n",
       "      <th>726</th>\n",
       "      <td>726</td>\n",
       "      <td>0.241986</td>\n",
       "      <td>1</td>\n",
       "      <td>0.195672</td>\n",
       "      <td>0</td>\n",
       "      <td>1</td>\n",
       "    </tr>\n",
       "    <tr>\n",
       "      <th>727</th>\n",
       "      <td>727</td>\n",
       "      <td>0.241986</td>\n",
       "      <td>1</td>\n",
       "      <td>0.047851</td>\n",
       "      <td>0</td>\n",
       "      <td>1</td>\n",
       "    </tr>\n",
       "    <tr>\n",
       "      <th>728</th>\n",
       "      <td>728</td>\n",
       "      <td>0.245101</td>\n",
       "      <td>1</td>\n",
       "      <td>0.110332</td>\n",
       "      <td>0</td>\n",
       "      <td>1</td>\n",
       "    </tr>\n",
       "    <tr>\n",
       "      <th>729</th>\n",
       "      <td>729</td>\n",
       "      <td>0.195259</td>\n",
       "      <td>1</td>\n",
       "      <td>0.133191</td>\n",
       "      <td>0</td>\n",
       "      <td>1</td>\n",
       "    </tr>\n",
       "  </tbody>\n",
       "</table>\n",
       "<p>730 rows × 6 columns</p>\n",
       "</div>"
      ],
      "text/plain": [
       "     index      temp  yr    casual  holiday  intercept\n",
       "0        0  0.355170   0  0.100274        0          1\n",
       "1        1  0.379232   0  0.039317        0          1\n",
       "2        2  0.171000   0  0.035965        0          1\n",
       "3        3  0.175530   0  0.032307        0          1\n",
       "4        4  0.209120   0  0.024383        0          1\n",
       "..     ...       ...  ..       ...      ...        ...\n",
       "725    725  0.243025   1  0.074672        0          1\n",
       "726    726  0.241986   1  0.195672        0          1\n",
       "727    727  0.241986   1  0.047851        0          1\n",
       "728    728  0.245101   1  0.110332        0          1\n",
       "729    729  0.195259   1  0.133191        0          1\n",
       "\n",
       "[730 rows x 6 columns]"
      ]
     },
     "execution_count": 76,
     "metadata": {},
     "output_type": "execute_result"
    }
   ],
   "source": [
    "df_copy\n",
    "X = df_copy1\n",
    "y = df_copy['cnt']\n",
    "X['intercept'] = 1\n",
    "X.reset_index()\n"
   ]
  },
  {
   "cell_type": "code",
   "execution_count": 77,
   "id": "3a3041f2",
   "metadata": {},
   "outputs": [],
   "source": [
    "X = np.array(X)\n",
    "y = np.array(y)"
   ]
  },
  {
   "cell_type": "code",
   "execution_count": 78,
   "id": "f43da724",
   "metadata": {},
   "outputs": [],
   "source": [
    "def compute_cost(X, y, theta):\n",
    "    return np.sum(np.square(np.matmul(X, theta) - y)) / (2 * len(y))"
   ]
  },
  {
   "cell_type": "code",
   "execution_count": 79,
   "id": "23db3274",
   "metadata": {},
   "outputs": [],
   "source": [
    "def gradient_descent_multi(X, y, theta, alpha, iterations):\n",
    "    theta = np.zeros(X.shape[1])\n",
    "    m = len(X)\n",
    "    gdm_df = pd.DataFrame( columns = ['Bets','cost'])\n",
    "\n",
    "    for i in range(iterations):\n",
    "        gradient = (1/m) * np.matmul(X.T, np.matmul(X, theta) - y)\n",
    "        theta = theta - alpha * gradient\n",
    "        cost = compute_cost(X, y, theta)\n",
    "        gdm_df.loc[i] = [theta,cost]\n",
    "\n",
    "    return gdm_df"
   ]
  },
  {
   "cell_type": "code",
   "execution_count": 80,
   "id": "9247e768",
   "metadata": {},
   "outputs": [],
   "source": [
    "\n",
    "theta = np.matrix(np.array([0,0,0,0,0]))\n",
    "alpha = 0.01\n",
    "iterations = 1000"
   ]
  },
  {
   "cell_type": "code",
   "execution_count": 81,
   "id": "a68f1a89",
   "metadata": {},
   "outputs": [
    {
     "data": {
      "text/html": [
       "<div>\n",
       "<style scoped>\n",
       "    .dataframe tbody tr th:only-of-type {\n",
       "        vertical-align: middle;\n",
       "    }\n",
       "\n",
       "    .dataframe tbody tr th {\n",
       "        vertical-align: top;\n",
       "    }\n",
       "\n",
       "    .dataframe thead th {\n",
       "        text-align: right;\n",
       "    }\n",
       "</style>\n",
       "<table border=\"1\" class=\"dataframe\">\n",
       "  <thead>\n",
       "    <tr style=\"text-align: right;\">\n",
       "      <th></th>\n",
       "      <th>Bets</th>\n",
       "      <th>cost</th>\n",
       "    </tr>\n",
       "  </thead>\n",
       "  <tbody>\n",
       "    <tr>\n",
       "      <th>0</th>\n",
       "      <td>[0.003125056966567142, 0.0032145950614326513, ...</td>\n",
       "      <td>0.153051</td>\n",
       "    </tr>\n",
       "    <tr>\n",
       "      <th>1</th>\n",
       "      <td>[0.006199503199182698, 0.006376066042707932, 0...</td>\n",
       "      <td>0.148309</td>\n",
       "    </tr>\n",
       "    <tr>\n",
       "      <th>2</th>\n",
       "      <td>[0.009224188474602855, 0.009485303578184414, 0...</td>\n",
       "      <td>0.143726</td>\n",
       "    </tr>\n",
       "    <tr>\n",
       "      <th>3</th>\n",
       "      <td>[0.012199948290578555, 0.012543183341381556, 0...</td>\n",
       "      <td>0.139295</td>\n",
       "    </tr>\n",
       "    <tr>\n",
       "      <th>4</th>\n",
       "      <td>[0.015127604105782334, 0.01555056629635257, 0....</td>\n",
       "      <td>0.135012</td>\n",
       "    </tr>\n",
       "    <tr>\n",
       "      <th>...</th>\n",
       "      <td>...</td>\n",
       "      <td>...</td>\n",
       "    </tr>\n",
       "    <tr>\n",
       "      <th>995</th>\n",
       "      <td>[0.27403640365466214, 0.21121419139238706, 0.1...</td>\n",
       "      <td>0.007641</td>\n",
       "    </tr>\n",
       "    <tr>\n",
       "      <th>996</th>\n",
       "      <td>[0.27411169732377544, 0.2112189574484764, 0.19...</td>\n",
       "      <td>0.007639</td>\n",
       "    </tr>\n",
       "    <tr>\n",
       "      <th>997</th>\n",
       "      <td>[0.2741869535332493, 0.2112237076165976, 0.198...</td>\n",
       "      <td>0.007638</td>\n",
       "    </tr>\n",
       "    <tr>\n",
       "      <th>998</th>\n",
       "      <td>[0.2742621722959646, 0.21122844193264492, 0.19...</td>\n",
       "      <td>0.007636</td>\n",
       "    </tr>\n",
       "    <tr>\n",
       "      <th>999</th>\n",
       "      <td>[0.27433735362481015, 0.21123316043243695, 0.1...</td>\n",
       "      <td>0.007634</td>\n",
       "    </tr>\n",
       "  </tbody>\n",
       "</table>\n",
       "<p>1000 rows × 2 columns</p>\n",
       "</div>"
      ],
      "text/plain": [
       "                                                  Bets      cost\n",
       "0    [0.003125056966567142, 0.0032145950614326513, ...  0.153051\n",
       "1    [0.006199503199182698, 0.006376066042707932, 0...  0.148309\n",
       "2    [0.009224188474602855, 0.009485303578184414, 0...  0.143726\n",
       "3    [0.012199948290578555, 0.012543183341381556, 0...  0.139295\n",
       "4    [0.015127604105782334, 0.01555056629635257, 0....  0.135012\n",
       "..                                                 ...       ...\n",
       "995  [0.27403640365466214, 0.21121419139238706, 0.1...  0.007641\n",
       "996  [0.27411169732377544, 0.2112189574484764, 0.19...  0.007639\n",
       "997  [0.2741869535332493, 0.2112237076165976, 0.198...  0.007638\n",
       "998  [0.2742621722959646, 0.21122844193264492, 0.19...  0.007636\n",
       "999  [0.27433735362481015, 0.21123316043243695, 0.1...  0.007634\n",
       "\n",
       "[1000 rows x 2 columns]"
      ]
     },
     "execution_count": 81,
     "metadata": {},
     "output_type": "execute_result"
    }
   ],
   "source": [
    "gradient_descent_multi(X, y, theta, alpha, iterations)  # the cost function for this model is very low\n",
    "\n",
    "# which is good"
   ]
  },
  {
   "cell_type": "code",
   "execution_count": 82,
   "id": "d1bd48b8",
   "metadata": {},
   "outputs": [
    {
     "data": {
      "text/plain": [
       "<AxesSubplot:xlabel='index'>"
      ]
     },
     "execution_count": 82,
     "metadata": {},
     "output_type": "execute_result"
    },
    {
     "data": {
      "image/png": "[encoded data removed]",
      "text/plain": [
       "<Figure size 432x288 with 1 Axes>"
      ]
     },
     "metadata": {
      "needs_background": "light"
     },
     "output_type": "display_data"
    }
   ],
   "source": [
    "gradient_descent_multi(X, y, theta, alpha, iterations).reset_index().plot.line(x='index', y=['cost'])\n",
    "\n",
    "#the descent also hugs the x axis"
   ]
  },
  {
   "cell_type": "markdown",
   "id": "61c8b0b5",
   "metadata": {},
   "source": [
    "#### Let's train the model using sklearn"
   ]
  },
  {
   "cell_type": "code",
   "execution_count": 83,
   "id": "78caf821",
   "metadata": {},
   "outputs": [],
   "source": [
    "X_train_lm = X_train[col]\n",
    "y_train_lm = y_train"
   ]
  },
  {
   "cell_type": "code",
   "execution_count": 84,
   "id": "c7c82eae",
   "metadata": {},
   "outputs": [
    {
     "data": {
      "text/plain": [
       "LinearRegression()"
      ]
     },
     "execution_count": 84,
     "metadata": {},
     "output_type": "execute_result"
    }
   ],
   "source": [
    "from sklearn.linear_model import LinearRegression\n",
    "\n",
    "# Representing LinearRegression as lr(Creating LinearRegression Object)\n",
    "lmxsk = LinearRegression()\n",
    "\n",
    "# Fit the model using lr.fit()\n",
    "lmxsk.fit(X_train_lm, y_train_lm)"
   ]
  },
  {
   "cell_type": "code",
   "execution_count": 85,
   "id": "73215658",
   "metadata": {},
   "outputs": [
    {
     "name": "stdout",
     "output_type": "stream",
     "text": [
      "intercept:0.09211052347276344\n",
      "Index(['temp', 'yr', 'casual', 'holiday'], dtype='object') [ 0.4300332   0.20860137  0.34342424 -0.11026275]\n"
     ]
    }
   ],
   "source": [
    "cols = X_train_lm.columns\n",
    "print('intercept:{}'.format(lmxsk.intercept_))\n",
    "print(cols,lmxsk.coef_)"
   ]
  },
  {
   "cell_type": "code",
   "execution_count": 86,
   "id": "f00a6532",
   "metadata": {},
   "outputs": [
    {
     "name": "stdout",
     "output_type": "stream",
     "text": [
      "                            OLS Regression Results                            \n",
      "==============================================================================\n",
      "Dep. Variable:                    cnt   R-squared:                       0.754\n",
      "Model:                            OLS   Adj. R-squared:                  0.753\n",
      "Method:                 Least Squares   F-statistic:                     444.5\n",
      "Date:                Wed, 09 Nov 2022   Prob (F-statistic):          6.81e-175\n",
      "Time:                        18:08:44   Log-Likelihood:                 452.03\n",
      "No. Observations:                 584   AIC:                            -894.1\n",
      "Df Residuals:                     579   BIC:                            -872.2\n",
      "Df Model:                           4                                         \n",
      "Covariance Type:            nonrobust                                         \n",
      "==============================================================================\n",
      "                 coef    std err          t      P>|t|      [0.025      0.975]\n",
      "------------------------------------------------------------------------------\n",
      "const          0.0921      0.013      7.191      0.000       0.067       0.117\n",
      "temp           0.4300      0.025     17.058      0.000       0.381       0.480\n",
      "yr             0.2086      0.010     21.881      0.000       0.190       0.227\n",
      "casual         0.3434      0.028     12.180      0.000       0.288       0.399\n",
      "holiday       -0.1103      0.028     -3.869      0.000      -0.166      -0.054\n",
      "==============================================================================\n",
      "Omnibus:                       24.488   Durbin-Watson:                   1.987\n",
      "Prob(Omnibus):                  0.000   Jarque-Bera (JB):               28.702\n",
      "Skew:                          -0.437   Prob(JB):                     5.85e-07\n",
      "Kurtosis:                       3.646   Cond. No.                         9.64\n",
      "==============================================================================\n",
      "\n",
      "Notes:\n",
      "[1] Standard Errors assume that the covariance matrix of the errors is correctly specified.\n"
     ]
    }
   ],
   "source": [
    "print(lmx.summary() )   # So my initial prediction was misguided, infact the constant term has a very low coef"
   ]
  },
  {
   "cell_type": "code",
   "execution_count": 87,
   "id": "cf228946",
   "metadata": {},
   "outputs": [
    {
     "name": "stdout",
     "output_type": "stream",
     "text": [
      "mean squared error of 0.1005095777299744\n",
      "R^2 of lmx is 75.44%\n"
     ]
    }
   ],
   "source": [
    "from sklearn.metrics import mean_squared_error\n",
    "\n",
    "sqrt = np.sqrt(mean_squared_error(y_test, y_pred0))\n",
    "print('mean squared error of {}'.format(sqrt))\n",
    "print('R^2 of lmx is {}%'.format(round(lmx.rsquared*100,2)))"
   ]
  },
  {
   "cell_type": "markdown",
   "id": "12af16aa",
   "metadata": {},
   "source": [
    "### Final Model: 0.43 x 'temp' + 0.3434 x 'casual' + 0.2086 x 'yr' - 0.1103 x 'holiday' + 0.0921 = 'cnt'"
   ]
  }
 ],
 "metadata": {
  "kernelspec": {
   "display_name": "Python 3 (ipykernel)",
   "language": "python",
   "name": "python3"
  },
  "language_info": {
   "codemirror_mode": {
    "name": "ipython",
    "version": 3
   },
   "file_extension": ".py",
   "mimetype": "text/x-python",
   "name": "python",
   "nbconvert_exporter": "python",
   "pygments_lexer": "ipython3",
   "version": "3.9.12"
  }
 },
 "nbformat": 4,
 "nbformat_minor": 5
}
